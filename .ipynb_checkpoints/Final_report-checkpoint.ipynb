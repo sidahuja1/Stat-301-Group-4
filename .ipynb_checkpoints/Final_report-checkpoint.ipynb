{
 "cells": [
  {
   "cell_type": "code",
   "execution_count": 24,
   "metadata": {
    "vscode": {
     "languageId": "r"
    }
   },
   "outputs": [],
   "source": [
    "library(tidyverse)\n",
    "library(dplyr)\n",
    "library(glmnet)\n",
    "library(car)\n",
    "library(broom)\n",
    "library(leaps)"
   ]
  },
  {
   "cell_type": "code",
   "execution_count": 25,
   "metadata": {
    "vscode": {
     "languageId": "r"
    }
   },
   "outputs": [
    {
     "name": "stderr",
     "output_type": "stream",
     "text": [
      "New names:\n",
      "* `` -> ...1\n",
      "\n",
      "\u001b[1mRows: \u001b[22m\u001b[34m20640\u001b[39m \u001b[1mColumns: \u001b[22m\u001b[34m11\u001b[39m\n",
      "\u001b[36m──\u001b[39m \u001b[1mColumn specification\u001b[22m \u001b[36m────────────────────────────────────────────────────────────────────────────\u001b[39m\n",
      "\u001b[1mDelimiter:\u001b[22m \",\"\n",
      "\u001b[31mchr\u001b[39m  (1): ocean_proximity\n",
      "\u001b[32mdbl\u001b[39m (10): ...1, longitude, latitude, housing_median_age, total_rooms, total_...\n",
      "\n",
      "\u001b[36mℹ\u001b[39m Use \u001b[30m\u001b[47m\u001b[30m\u001b[47m`spec()`\u001b[47m\u001b[30m\u001b[49m\u001b[39m to retrieve the full column specification for this data.\n",
      "\u001b[36mℹ\u001b[39m Specify the column types or set \u001b[30m\u001b[47m\u001b[30m\u001b[47m`show_col_types = FALSE`\u001b[47m\u001b[30m\u001b[49m\u001b[39m to quiet this message.\n"
     ]
    }
   ],
   "source": [
    "data <- read_csv(\"house_data.csv\") %>% drop_na()"
   ]
  },
  {
   "cell_type": "code",
   "execution_count": 26,
   "metadata": {
    "vscode": {
     "languageId": "r"
    }
   },
   "outputs": [
    {
     "data": {
      "text/html": [
       "<table class=\"dataframe\">\n",
       "<caption>A tibble: 6 × 13</caption>\n",
       "<thead>\n",
       "\t<tr><th scope=col>longitude</th><th scope=col>latitude</th><th scope=col>housing_median_age</th><th scope=col>total_rooms</th><th scope=col>total_bedrooms</th><th scope=col>population</th><th scope=col>households</th><th scope=col>median_income</th><th scope=col>ocean_proximity</th><th scope=col>rooms_per_household</th><th scope=col>bedrooms_per_household</th><th scope=col>population_per_household</th><th scope=col>median_house_value</th></tr>\n",
       "\t<tr><th scope=col>&lt;dbl&gt;</th><th scope=col>&lt;dbl&gt;</th><th scope=col>&lt;dbl&gt;</th><th scope=col>&lt;dbl&gt;</th><th scope=col>&lt;dbl&gt;</th><th scope=col>&lt;dbl&gt;</th><th scope=col>&lt;dbl&gt;</th><th scope=col>&lt;dbl&gt;</th><th scope=col>&lt;chr&gt;</th><th scope=col>&lt;dbl&gt;</th><th scope=col>&lt;dbl&gt;</th><th scope=col>&lt;dbl&gt;</th><th scope=col>&lt;dbl&gt;</th></tr>\n",
       "</thead>\n",
       "<tbody>\n",
       "\t<tr><td>-122.23</td><td>37.88</td><td>41</td><td> 880</td><td> 129</td><td> 322</td><td> 126</td><td>8.3252</td><td>NEAR BAY</td><td>6.984127</td><td>1.0238095</td><td>2.555556</td><td>452600</td></tr>\n",
       "\t<tr><td>-122.22</td><td>37.86</td><td>21</td><td>7099</td><td>1106</td><td>2401</td><td>1138</td><td>8.3014</td><td>NEAR BAY</td><td>6.238137</td><td>0.9718805</td><td>2.109842</td><td>358500</td></tr>\n",
       "\t<tr><td>-122.24</td><td>37.85</td><td>52</td><td>1467</td><td> 190</td><td> 496</td><td> 177</td><td>7.2574</td><td>NEAR BAY</td><td>8.288136</td><td>1.0734463</td><td>2.802260</td><td>352100</td></tr>\n",
       "\t<tr><td>-122.25</td><td>37.85</td><td>52</td><td>1274</td><td> 235</td><td> 558</td><td> 219</td><td>5.6431</td><td>NEAR BAY</td><td>5.817352</td><td>1.0730594</td><td>2.547945</td><td>341300</td></tr>\n",
       "\t<tr><td>-122.25</td><td>37.85</td><td>52</td><td>1627</td><td> 280</td><td> 565</td><td> 259</td><td>3.8462</td><td>NEAR BAY</td><td>6.281853</td><td>1.0810811</td><td>2.181467</td><td>342200</td></tr>\n",
       "\t<tr><td>-122.25</td><td>37.85</td><td>52</td><td> 919</td><td> 213</td><td> 413</td><td> 193</td><td>4.0368</td><td>NEAR BAY</td><td>4.761658</td><td>1.1036269</td><td>2.139896</td><td>269700</td></tr>\n",
       "</tbody>\n",
       "</table>\n"
      ],
      "text/latex": [
       "A tibble: 6 × 13\n",
       "\\begin{tabular}{lllllllllllll}\n",
       " longitude & latitude & housing\\_median\\_age & total\\_rooms & total\\_bedrooms & population & households & median\\_income & ocean\\_proximity & rooms\\_per\\_household & bedrooms\\_per\\_household & population\\_per\\_household & median\\_house\\_value\\\\\n",
       " <dbl> & <dbl> & <dbl> & <dbl> & <dbl> & <dbl> & <dbl> & <dbl> & <chr> & <dbl> & <dbl> & <dbl> & <dbl>\\\\\n",
       "\\hline\n",
       "\t -122.23 & 37.88 & 41 &  880 &  129 &  322 &  126 & 8.3252 & NEAR BAY & 6.984127 & 1.0238095 & 2.555556 & 452600\\\\\n",
       "\t -122.22 & 37.86 & 21 & 7099 & 1106 & 2401 & 1138 & 8.3014 & NEAR BAY & 6.238137 & 0.9718805 & 2.109842 & 358500\\\\\n",
       "\t -122.24 & 37.85 & 52 & 1467 &  190 &  496 &  177 & 7.2574 & NEAR BAY & 8.288136 & 1.0734463 & 2.802260 & 352100\\\\\n",
       "\t -122.25 & 37.85 & 52 & 1274 &  235 &  558 &  219 & 5.6431 & NEAR BAY & 5.817352 & 1.0730594 & 2.547945 & 341300\\\\\n",
       "\t -122.25 & 37.85 & 52 & 1627 &  280 &  565 &  259 & 3.8462 & NEAR BAY & 6.281853 & 1.0810811 & 2.181467 & 342200\\\\\n",
       "\t -122.25 & 37.85 & 52 &  919 &  213 &  413 &  193 & 4.0368 & NEAR BAY & 4.761658 & 1.1036269 & 2.139896 & 269700\\\\\n",
       "\\end{tabular}\n"
      ],
      "text/markdown": [
       "\n",
       "A tibble: 6 × 13\n",
       "\n",
       "| longitude &lt;dbl&gt; | latitude &lt;dbl&gt; | housing_median_age &lt;dbl&gt; | total_rooms &lt;dbl&gt; | total_bedrooms &lt;dbl&gt; | population &lt;dbl&gt; | households &lt;dbl&gt; | median_income &lt;dbl&gt; | ocean_proximity &lt;chr&gt; | rooms_per_household &lt;dbl&gt; | bedrooms_per_household &lt;dbl&gt; | population_per_household &lt;dbl&gt; | median_house_value &lt;dbl&gt; |\n",
       "|---|---|---|---|---|---|---|---|---|---|---|---|---|\n",
       "| -122.23 | 37.88 | 41 |  880 |  129 |  322 |  126 | 8.3252 | NEAR BAY | 6.984127 | 1.0238095 | 2.555556 | 452600 |\n",
       "| -122.22 | 37.86 | 21 | 7099 | 1106 | 2401 | 1138 | 8.3014 | NEAR BAY | 6.238137 | 0.9718805 | 2.109842 | 358500 |\n",
       "| -122.24 | 37.85 | 52 | 1467 |  190 |  496 |  177 | 7.2574 | NEAR BAY | 8.288136 | 1.0734463 | 2.802260 | 352100 |\n",
       "| -122.25 | 37.85 | 52 | 1274 |  235 |  558 |  219 | 5.6431 | NEAR BAY | 5.817352 | 1.0730594 | 2.547945 | 341300 |\n",
       "| -122.25 | 37.85 | 52 | 1627 |  280 |  565 |  259 | 3.8462 | NEAR BAY | 6.281853 | 1.0810811 | 2.181467 | 342200 |\n",
       "| -122.25 | 37.85 | 52 |  919 |  213 |  413 |  193 | 4.0368 | NEAR BAY | 4.761658 | 1.1036269 | 2.139896 | 269700 |\n",
       "\n"
      ],
      "text/plain": [
       "  longitude latitude housing_median_age total_rooms total_bedrooms population\n",
       "1 -122.23   37.88    41                  880         129            322      \n",
       "2 -122.22   37.86    21                 7099        1106           2401      \n",
       "3 -122.24   37.85    52                 1467         190            496      \n",
       "4 -122.25   37.85    52                 1274         235            558      \n",
       "5 -122.25   37.85    52                 1627         280            565      \n",
       "6 -122.25   37.85    52                  919         213            413      \n",
       "  households median_income ocean_proximity rooms_per_household\n",
       "1  126       8.3252        NEAR BAY        6.984127           \n",
       "2 1138       8.3014        NEAR BAY        6.238137           \n",
       "3  177       7.2574        NEAR BAY        8.288136           \n",
       "4  219       5.6431        NEAR BAY        5.817352           \n",
       "5  259       3.8462        NEAR BAY        6.281853           \n",
       "6  193       4.0368        NEAR BAY        4.761658           \n",
       "  bedrooms_per_household population_per_household median_house_value\n",
       "1 1.0238095              2.555556                 452600            \n",
       "2 0.9718805              2.109842                 358500            \n",
       "3 1.0734463              2.802260                 352100            \n",
       "4 1.0730594              2.547945                 341300            \n",
       "5 1.0810811              2.181467                 342200            \n",
       "6 1.1036269              2.139896                 269700            "
      ]
     },
     "metadata": {},
     "output_type": "display_data"
    }
   ],
   "source": [
    "# preprocessing from the proposal\n",
    "\n",
    "data <- data %>% mutate(rooms_per_household = total_rooms/households,\n",
    "                       bedrooms_per_household = total_bedrooms/households,\n",
    "                       population_per_household = population/households) %>%\n",
    "                select(-...1) \n",
    "data <- data %>% relocate(median_house_value, .after = last_col())\n",
    "\n",
    "head(data)"
   ]
  },
  {
   "cell_type": "markdown",
   "metadata": {},
   "source": [
    "### Fitting a full linear model"
   ]
  },
  {
   "cell_type": "code",
   "execution_count": 27,
   "metadata": {
    "vscode": {
     "languageId": "r"
    }
   },
   "outputs": [
    {
     "data": {
      "text/html": [
       "<table class=\"dataframe\">\n",
       "<caption>A tibble: 16 × 5</caption>\n",
       "<thead>\n",
       "\t<tr><th scope=col>term</th><th scope=col>estimate</th><th scope=col>std.error</th><th scope=col>statistic</th><th scope=col>p.value</th></tr>\n",
       "\t<tr><th scope=col>&lt;chr&gt;</th><th scope=col>&lt;dbl&gt;</th><th scope=col>&lt;dbl&gt;</th><th scope=col>&lt;dbl&gt;</th><th scope=col>&lt;dbl&gt;</th></tr>\n",
       "</thead>\n",
       "<tbody>\n",
       "\t<tr><td>(Intercept)              </td><td>-2.355682e+06</td><td>8.861237e+04</td><td>-26.584116</td><td>4.159506e-153</td></tr>\n",
       "\t<tr><td>longitude                </td><td>-2.766339e+04</td><td>1.026361e+03</td><td>-26.952876</td><td>2.962510e-157</td></tr>\n",
       "\t<tr><td>latitude                 </td><td>-2.635291e+04</td><td>1.014102e+03</td><td>-25.986448</td><td>1.690167e-146</td></tr>\n",
       "\t<tr><td>housing_median_age       </td><td> 1.073456e+03</td><td>4.379668e+01</td><td> 24.509976</td><td>8.946624e-131</td></tr>\n",
       "\t<tr><td>total_rooms              </td><td>-3.589039e+00</td><td>9.357749e-01</td><td> -3.835366</td><td> 1.257542e-04</td></tr>\n",
       "\t<tr><td>total_bedrooms           </td><td> 5.946919e+01</td><td>7.890935e+00</td><td>  7.536394</td><td> 5.032696e-14</td></tr>\n",
       "\t<tr><td>population               </td><td>-3.887653e+01</td><td>1.107548e+00</td><td>-35.101428</td><td>3.817785e-262</td></tr>\n",
       "\t<tr><td>households               </td><td> 8.275246e+01</td><td>8.310903e+00</td><td>  9.957096</td><td> 2.653919e-23</td></tr>\n",
       "\t<tr><td>median_income            </td><td> 4.033897e+04</td><td>4.128793e+02</td><td> 97.701587</td><td> 0.000000e+00</td></tr>\n",
       "\t<tr><td>ocean_proximityINLAND    </td><td>-3.739914e+04</td><td>1.752564e+03</td><td>-21.339669</td><td>6.003425e-100</td></tr>\n",
       "\t<tr><td>ocean_proximityISLAND    </td><td> 1.482278e+05</td><td>3.066557e+04</td><td>  4.833690</td><td> 1.349997e-06</td></tr>\n",
       "\t<tr><td>ocean_proximityNEAR BAY  </td><td>-4.045563e+03</td><td>1.908314e+03</td><td> -2.119967</td><td> 3.402086e-02</td></tr>\n",
       "\t<tr><td>ocean_proximityNEAR OCEAN</td><td> 3.976530e+03</td><td>1.566473e+03</td><td>  2.538525</td><td> 1.113945e-02</td></tr>\n",
       "\t<tr><td>rooms_per_household      </td><td>-3.326757e+03</td><td>6.781886e+02</td><td> -4.905356</td><td> 9.397536e-07</td></tr>\n",
       "\t<tr><td>bedrooms_per_household   </td><td> 2.567312e+04</td><td>3.233867e+03</td><td>  7.938830</td><td> 2.145757e-15</td></tr>\n",
       "\t<tr><td>population_per_household </td><td> 6.450441e+01</td><td>4.736633e+01</td><td>  1.361820</td><td> 1.732698e-01</td></tr>\n",
       "</tbody>\n",
       "</table>\n"
      ],
      "text/latex": [
       "A tibble: 16 × 5\n",
       "\\begin{tabular}{lllll}\n",
       " term & estimate & std.error & statistic & p.value\\\\\n",
       " <chr> & <dbl> & <dbl> & <dbl> & <dbl>\\\\\n",
       "\\hline\n",
       "\t (Intercept)               & -2.355682e+06 & 8.861237e+04 & -26.584116 & 4.159506e-153\\\\\n",
       "\t longitude                 & -2.766339e+04 & 1.026361e+03 & -26.952876 & 2.962510e-157\\\\\n",
       "\t latitude                  & -2.635291e+04 & 1.014102e+03 & -25.986448 & 1.690167e-146\\\\\n",
       "\t housing\\_median\\_age        &  1.073456e+03 & 4.379668e+01 &  24.509976 & 8.946624e-131\\\\\n",
       "\t total\\_rooms               & -3.589039e+00 & 9.357749e-01 &  -3.835366 &  1.257542e-04\\\\\n",
       "\t total\\_bedrooms            &  5.946919e+01 & 7.890935e+00 &   7.536394 &  5.032696e-14\\\\\n",
       "\t population                & -3.887653e+01 & 1.107548e+00 & -35.101428 & 3.817785e-262\\\\\n",
       "\t households                &  8.275246e+01 & 8.310903e+00 &   9.957096 &  2.653919e-23\\\\\n",
       "\t median\\_income             &  4.033897e+04 & 4.128793e+02 &  97.701587 &  0.000000e+00\\\\\n",
       "\t ocean\\_proximityINLAND     & -3.739914e+04 & 1.752564e+03 & -21.339669 & 6.003425e-100\\\\\n",
       "\t ocean\\_proximityISLAND     &  1.482278e+05 & 3.066557e+04 &   4.833690 &  1.349997e-06\\\\\n",
       "\t ocean\\_proximityNEAR BAY   & -4.045563e+03 & 1.908314e+03 &  -2.119967 &  3.402086e-02\\\\\n",
       "\t ocean\\_proximityNEAR OCEAN &  3.976530e+03 & 1.566473e+03 &   2.538525 &  1.113945e-02\\\\\n",
       "\t rooms\\_per\\_household       & -3.326757e+03 & 6.781886e+02 &  -4.905356 &  9.397536e-07\\\\\n",
       "\t bedrooms\\_per\\_household    &  2.567312e+04 & 3.233867e+03 &   7.938830 &  2.145757e-15\\\\\n",
       "\t population\\_per\\_household  &  6.450441e+01 & 4.736633e+01 &   1.361820 &  1.732698e-01\\\\\n",
       "\\end{tabular}\n"
      ],
      "text/markdown": [
       "\n",
       "A tibble: 16 × 5\n",
       "\n",
       "| term &lt;chr&gt; | estimate &lt;dbl&gt; | std.error &lt;dbl&gt; | statistic &lt;dbl&gt; | p.value &lt;dbl&gt; |\n",
       "|---|---|---|---|---|\n",
       "| (Intercept)               | -2.355682e+06 | 8.861237e+04 | -26.584116 | 4.159506e-153 |\n",
       "| longitude                 | -2.766339e+04 | 1.026361e+03 | -26.952876 | 2.962510e-157 |\n",
       "| latitude                  | -2.635291e+04 | 1.014102e+03 | -25.986448 | 1.690167e-146 |\n",
       "| housing_median_age        |  1.073456e+03 | 4.379668e+01 |  24.509976 | 8.946624e-131 |\n",
       "| total_rooms               | -3.589039e+00 | 9.357749e-01 |  -3.835366 |  1.257542e-04 |\n",
       "| total_bedrooms            |  5.946919e+01 | 7.890935e+00 |   7.536394 |  5.032696e-14 |\n",
       "| population                | -3.887653e+01 | 1.107548e+00 | -35.101428 | 3.817785e-262 |\n",
       "| households                |  8.275246e+01 | 8.310903e+00 |   9.957096 |  2.653919e-23 |\n",
       "| median_income             |  4.033897e+04 | 4.128793e+02 |  97.701587 |  0.000000e+00 |\n",
       "| ocean_proximityINLAND     | -3.739914e+04 | 1.752564e+03 | -21.339669 | 6.003425e-100 |\n",
       "| ocean_proximityISLAND     |  1.482278e+05 | 3.066557e+04 |   4.833690 |  1.349997e-06 |\n",
       "| ocean_proximityNEAR BAY   | -4.045563e+03 | 1.908314e+03 |  -2.119967 |  3.402086e-02 |\n",
       "| ocean_proximityNEAR OCEAN |  3.976530e+03 | 1.566473e+03 |   2.538525 |  1.113945e-02 |\n",
       "| rooms_per_household       | -3.326757e+03 | 6.781886e+02 |  -4.905356 |  9.397536e-07 |\n",
       "| bedrooms_per_household    |  2.567312e+04 | 3.233867e+03 |   7.938830 |  2.145757e-15 |\n",
       "| population_per_household  |  6.450441e+01 | 4.736633e+01 |   1.361820 |  1.732698e-01 |\n",
       "\n"
      ],
      "text/plain": [
       "   term                      estimate      std.error    statistic \n",
       "1  (Intercept)               -2.355682e+06 8.861237e+04 -26.584116\n",
       "2  longitude                 -2.766339e+04 1.026361e+03 -26.952876\n",
       "3  latitude                  -2.635291e+04 1.014102e+03 -25.986448\n",
       "4  housing_median_age         1.073456e+03 4.379668e+01  24.509976\n",
       "5  total_rooms               -3.589039e+00 9.357749e-01  -3.835366\n",
       "6  total_bedrooms             5.946919e+01 7.890935e+00   7.536394\n",
       "7  population                -3.887653e+01 1.107548e+00 -35.101428\n",
       "8  households                 8.275246e+01 8.310903e+00   9.957096\n",
       "9  median_income              4.033897e+04 4.128793e+02  97.701587\n",
       "10 ocean_proximityINLAND     -3.739914e+04 1.752564e+03 -21.339669\n",
       "11 ocean_proximityISLAND      1.482278e+05 3.066557e+04   4.833690\n",
       "12 ocean_proximityNEAR BAY   -4.045563e+03 1.908314e+03  -2.119967\n",
       "13 ocean_proximityNEAR OCEAN  3.976530e+03 1.566473e+03   2.538525\n",
       "14 rooms_per_household       -3.326757e+03 6.781886e+02  -4.905356\n",
       "15 bedrooms_per_household     2.567312e+04 3.233867e+03   7.938830\n",
       "16 population_per_household   6.450441e+01 4.736633e+01   1.361820\n",
       "   p.value      \n",
       "1  4.159506e-153\n",
       "2  2.962510e-157\n",
       "3  1.690167e-146\n",
       "4  8.946624e-131\n",
       "5   1.257542e-04\n",
       "6   5.032696e-14\n",
       "7  3.817785e-262\n",
       "8   2.653919e-23\n",
       "9   0.000000e+00\n",
       "10 6.003425e-100\n",
       "11  1.349997e-06\n",
       "12  3.402086e-02\n",
       "13  1.113945e-02\n",
       "14  9.397536e-07\n",
       "15  2.145757e-15\n",
       "16  1.732698e-01"
      ]
     },
     "metadata": {},
     "output_type": "display_data"
    },
    {
     "data": {
      "text/html": [
       "<table class=\"dataframe\">\n",
       "<caption>A matrix: 12 × 3 of type dbl</caption>\n",
       "<thead>\n",
       "\t<tr><th></th><th scope=col>GVIF</th><th scope=col>Df</th><th scope=col>GVIF^(1/(2*Df))</th></tr>\n",
       "</thead>\n",
       "<tbody>\n",
       "\t<tr><th scope=row>longitude</th><td>18.427132</td><td>1</td><td>4.292684</td></tr>\n",
       "\t<tr><th scope=row>latitude</th><td>20.452759</td><td>1</td><td>4.522473</td></tr>\n",
       "\t<tr><th scope=row>housing_median_age</th><td> 1.325266</td><td>1</td><td>1.151202</td></tr>\n",
       "\t<tr><th scope=row>total_rooms</th><td>18.222064</td><td>1</td><td>4.268731</td></tr>\n",
       "\t<tr><th scope=row>total_bedrooms</th><td>48.179240</td><td>1</td><td>6.941127</td></tr>\n",
       "\t<tr><th scope=row>population</th><td> 6.864198</td><td>1</td><td>2.619961</td></tr>\n",
       "\t<tr><th scope=row>households</th><td>43.989398</td><td>1</td><td>6.632450</td></tr>\n",
       "\t<tr><th scope=row>median_income</th><td> 2.679626</td><td>1</td><td>1.636956</td></tr>\n",
       "\t<tr><th scope=row>ocean_proximity</th><td> 4.173184</td><td>4</td><td>1.195524</td></tr>\n",
       "\t<tr><th scope=row>rooms_per_household</th><td>12.356066</td><td>1</td><td>3.515120</td></tr>\n",
       "\t<tr><th scope=row>bedrooms_per_household</th><td>10.329821</td><td>1</td><td>3.214004</td></tr>\n",
       "\t<tr><th scope=row>population_per_household</th><td> 1.065225</td><td>1</td><td>1.032097</td></tr>\n",
       "</tbody>\n",
       "</table>\n"
      ],
      "text/latex": [
       "A matrix: 12 × 3 of type dbl\n",
       "\\begin{tabular}{r|lll}\n",
       "  & GVIF & Df & GVIF\\textasciicircum{}(1/(2*Df))\\\\\n",
       "\\hline\n",
       "\tlongitude & 18.427132 & 1 & 4.292684\\\\\n",
       "\tlatitude & 20.452759 & 1 & 4.522473\\\\\n",
       "\thousing\\_median\\_age &  1.325266 & 1 & 1.151202\\\\\n",
       "\ttotal\\_rooms & 18.222064 & 1 & 4.268731\\\\\n",
       "\ttotal\\_bedrooms & 48.179240 & 1 & 6.941127\\\\\n",
       "\tpopulation &  6.864198 & 1 & 2.619961\\\\\n",
       "\thouseholds & 43.989398 & 1 & 6.632450\\\\\n",
       "\tmedian\\_income &  2.679626 & 1 & 1.636956\\\\\n",
       "\tocean\\_proximity &  4.173184 & 4 & 1.195524\\\\\n",
       "\trooms\\_per\\_household & 12.356066 & 1 & 3.515120\\\\\n",
       "\tbedrooms\\_per\\_household & 10.329821 & 1 & 3.214004\\\\\n",
       "\tpopulation\\_per\\_household &  1.065225 & 1 & 1.032097\\\\\n",
       "\\end{tabular}\n"
      ],
      "text/markdown": [
       "\n",
       "A matrix: 12 × 3 of type dbl\n",
       "\n",
       "| <!--/--> | GVIF | Df | GVIF^(1/(2*Df)) |\n",
       "|---|---|---|---|\n",
       "| longitude | 18.427132 | 1 | 4.292684 |\n",
       "| latitude | 20.452759 | 1 | 4.522473 |\n",
       "| housing_median_age |  1.325266 | 1 | 1.151202 |\n",
       "| total_rooms | 18.222064 | 1 | 4.268731 |\n",
       "| total_bedrooms | 48.179240 | 1 | 6.941127 |\n",
       "| population |  6.864198 | 1 | 2.619961 |\n",
       "| households | 43.989398 | 1 | 6.632450 |\n",
       "| median_income |  2.679626 | 1 | 1.636956 |\n",
       "| ocean_proximity |  4.173184 | 4 | 1.195524 |\n",
       "| rooms_per_household | 12.356066 | 1 | 3.515120 |\n",
       "| bedrooms_per_household | 10.329821 | 1 | 3.214004 |\n",
       "| population_per_household |  1.065225 | 1 | 1.032097 |\n",
       "\n"
      ],
      "text/plain": [
       "                         GVIF      Df GVIF^(1/(2*Df))\n",
       "longitude                18.427132 1  4.292684       \n",
       "latitude                 20.452759 1  4.522473       \n",
       "housing_median_age        1.325266 1  1.151202       \n",
       "total_rooms              18.222064 1  4.268731       \n",
       "total_bedrooms           48.179240 1  6.941127       \n",
       "population                6.864198 1  2.619961       \n",
       "households               43.989398 1  6.632450       \n",
       "median_income             2.679626 1  1.636956       \n",
       "ocean_proximity           4.173184 4  1.195524       \n",
       "rooms_per_household      12.356066 1  3.515120       \n",
       "bedrooms_per_household   10.329821 1  3.214004       \n",
       "population_per_household  1.065225 1  1.032097       "
      ]
     },
     "metadata": {},
     "output_type": "display_data"
    }
   ],
   "source": [
    "full_model <- lm(median_house_value~., data = data)\n",
    "tidy(full_model)\n",
    "vif(full_model)"
   ]
  },
  {
   "cell_type": "markdown",
   "metadata": {},
   "source": [
    "### Using LASSO to select a generative model\n",
    "\n",
    "Other than using forward/backward selection to create a model, we would like to see if LASSO generates a model with different parameters. Simutaneously, we would like to explore whether LASSO yields a better or worse performing model. \n",
    "\n",
    "We will choose our LASSO with a $\\lambda$ value that gives the smallest $MSE_{test}$."
   ]
  },
  {
   "cell_type": "markdown",
   "metadata": {},
   "source": [
    "To avoid bias, we will first split our data into two evenly divided portions -- one for variable selection, and the other for fitting the inference model. We will name the two portions `data_selection` and `data_inference`."
   ]
  },
  {
   "cell_type": "code",
   "execution_count": 28,
   "metadata": {
    "vscode": {
     "languageId": "r"
    }
   },
   "outputs": [],
   "source": [
    "set.seed(1234)\n",
    "indices <- sample.int(nrow(data), nrow(data)/2)\n",
    "data_selection <- data[indices, ]\n",
    "data_inference <- data[-indices, ]"
   ]
  },
  {
   "cell_type": "markdown",
   "metadata": {},
   "source": [
    "In the following cell, we create the X and Y portion of the variable selection portion. Because we have a categorical variable, `ocean_promixity`, we need to create group dummy variables in order to fit a LASSO model. The code to do so is referenced [here](https://stackoverflow.com/questions/46865838/using-lasso-in-r-with-categorical-variables). "
   ]
  },
  {
   "cell_type": "code",
   "execution_count": 29,
   "metadata": {
    "vscode": {
     "languageId": "r"
    }
   },
   "outputs": [],
   "source": [
    "set.seed(1234)\n",
    "\n",
    "data_selection <- data_selection %>% mutate(ocean_proximity = as.factor(ocean_proximity))\n",
    "data_selection_Y <- data_selection %>% select(median_house_value) %>% as.matrix()\n",
    "\n",
    "vars_name <- data_selection %>% \n",
    "  select(-median_house_value) %>% \n",
    "  colnames() %>% \n",
    "  str_c(collapse = \"+\") \n",
    "\n",
    "model_string <- paste(\"median_house_value  ~\",vars_name )\n",
    "\n",
    "data_selection_X <- model.matrix(as.formula(model_string), data_selection)\n"
   ]
  },
  {
   "cell_type": "markdown",
   "metadata": {},
   "source": [
    "Then, we train the regression using LASSO and find the optimal value of the hyperparameter $\\lambda$."
   ]
  },
  {
   "cell_type": "code",
   "execution_count": 30,
   "metadata": {
    "vscode": {
     "languageId": "r"
    }
   },
   "outputs": [
    {
     "name": "stdout",
     "output_type": "stream",
     "text": [
      "The best lambda value is 199.5262"
     ]
    }
   ],
   "source": [
    "set.seed(1234)\n",
    "\n",
    "# referenced from worksheet 11\n",
    "housing_lambda_LASSO <- cv.glmnet(\n",
    "  x = data_selection_X, y = data_selection_Y,\n",
    "  alpha = 1,\n",
    "  lambda = 10^seq(3, -2, by = -.1)\n",
    ")\n",
    "\n",
    "housing_lambda_min_MSE_LASSO <- round(housing_lambda_LASSO$lambda.min, 4)\n",
    "cat(\"The best lambda value is\", housing_lambda_min_MSE_LASSO)"
   ]
  },
  {
   "cell_type": "markdown",
   "metadata": {},
   "source": [
    "Now, we train another LASSO model using the optimal lambda we found."
   ]
  },
  {
   "cell_type": "code",
   "execution_count": 31,
   "metadata": {
    "vscode": {
     "languageId": "r"
    }
   },
   "outputs": [],
   "source": [
    "housing_LASSO_min <- glmnet(\n",
    "  x = data_selection_X, y = data_selection_Y,\n",
    "  alpha = 1,\n",
    "  lambda = housing_lambda_min_MSE_LASSO\n",
    ")"
   ]
  },
  {
   "cell_type": "code",
   "execution_count": 32,
   "metadata": {
    "vscode": {
     "languageId": "r"
    }
   },
   "outputs": [
    {
     "data": {
      "text/plain": [
       "16 x 1 sparse Matrix of class \"dgCMatrix\"\n",
       "                                     s0\n",
       "(Intercept)                .           \n",
       "longitude                 -2.277566e+04\n",
       "latitude                  -2.154839e+04\n",
       "housing_median_age         1.086667e+03\n",
       "total_rooms               -6.229462e-02\n",
       "total_bedrooms             4.519371e+01\n",
       "population                -3.411527e+01\n",
       "households                 6.847233e+01\n",
       "median_income              3.960898e+04\n",
       "ocean_proximityINLAND     -4.259871e+04\n",
       "ocean_proximityISLAND      1.585719e+05\n",
       "ocean_proximityNEAR BAY    2.162682e+03\n",
       "ocean_proximityNEAR OCEAN  6.851486e+03\n",
       "rooms_per_household       -4.798228e+03\n",
       "bedrooms_per_household     2.445515e+04\n",
       "population_per_household   3.871722e+02"
      ]
     },
     "metadata": {},
     "output_type": "display_data"
    }
   ],
   "source": [
    "housing_LASSO_min$beta"
   ]
  },
  {
   "cell_type": "markdown",
   "metadata": {
    "vscode": {
     "languageId": "r"
    }
   },
   "source": [
    "## Using Forward and Backward Algorithm"
   ]
  },
  {
   "cell_type": "markdown",
   "metadata": {},
   "source": [
    "Rather than arbitrarily using the full model, we would like to select particular variables to form a better model. In this section, automated procedures will be conducted to select the best model. Two most common methods will be used, which are Forward and Backward algorithms.\n",
    "\n",
    "First, we will use Forward selection. We will use the dataset `data_selection` to perform the selection algorithm. A summary of Forward selection result is generated as following."
   ]
  },
  {
   "cell_type": "code",
   "execution_count": 48,
   "metadata": {},
   "outputs": [
    {
     "data": {
      "text/plain": [
       "Subset selection object\n",
       "Call: regsubsets.formula(x = median_house_value ~ ., nvmax = 15, data = data_selection, \n",
       "    method = \"forward\")\n",
       "15 Variables  (and intercept)\n",
       "                          Forced in Forced out\n",
       "longitude                     FALSE      FALSE\n",
       "latitude                      FALSE      FALSE\n",
       "housing_median_age            FALSE      FALSE\n",
       "total_rooms                   FALSE      FALSE\n",
       "total_bedrooms                FALSE      FALSE\n",
       "population                    FALSE      FALSE\n",
       "households                    FALSE      FALSE\n",
       "median_income                 FALSE      FALSE\n",
       "ocean_proximityINLAND         FALSE      FALSE\n",
       "ocean_proximityISLAND         FALSE      FALSE\n",
       "ocean_proximityNEAR BAY       FALSE      FALSE\n",
       "ocean_proximityNEAR OCEAN     FALSE      FALSE\n",
       "rooms_per_household           FALSE      FALSE\n",
       "bedrooms_per_household        FALSE      FALSE\n",
       "population_per_household      FALSE      FALSE\n",
       "1 subsets of each size up to 15\n",
       "Selection Algorithm: forward\n",
       "          longitude latitude housing_median_age total_rooms total_bedrooms\n",
       "1  ( 1 )  \" \"       \" \"      \" \"                \" \"         \" \"           \n",
       "2  ( 1 )  \" \"       \" \"      \" \"                \" \"         \" \"           \n",
       "3  ( 1 )  \" \"       \" \"      \"*\"                \" \"         \" \"           \n",
       "4  ( 1 )  \" \"       \" \"      \"*\"                \" \"         \"*\"           \n",
       "5  ( 1 )  \" \"       \" \"      \"*\"                \" \"         \"*\"           \n",
       "6  ( 1 )  \" \"       \" \"      \"*\"                \" \"         \"*\"           \n",
       "7  ( 1 )  \" \"       \" \"      \"*\"                \" \"         \"*\"           \n",
       "8  ( 1 )  \" \"       \" \"      \"*\"                \"*\"         \"*\"           \n",
       "9  ( 1 )  \"*\"       \" \"      \"*\"                \"*\"         \"*\"           \n",
       "10  ( 1 ) \"*\"       \"*\"      \"*\"                \"*\"         \"*\"           \n",
       "11  ( 1 ) \"*\"       \"*\"      \"*\"                \"*\"         \"*\"           \n",
       "12  ( 1 ) \"*\"       \"*\"      \"*\"                \"*\"         \"*\"           \n",
       "13  ( 1 ) \"*\"       \"*\"      \"*\"                \"*\"         \"*\"           \n",
       "14  ( 1 ) \"*\"       \"*\"      \"*\"                \"*\"         \"*\"           \n",
       "15  ( 1 ) \"*\"       \"*\"      \"*\"                \"*\"         \"*\"           \n",
       "          population households median_income ocean_proximityINLAND\n",
       "1  ( 1 )  \" \"        \" \"        \"*\"           \" \"                  \n",
       "2  ( 1 )  \" \"        \" \"        \"*\"           \"*\"                  \n",
       "3  ( 1 )  \" \"        \" \"        \"*\"           \"*\"                  \n",
       "4  ( 1 )  \" \"        \" \"        \"*\"           \"*\"                  \n",
       "5  ( 1 )  \"*\"        \" \"        \"*\"           \"*\"                  \n",
       "6  ( 1 )  \"*\"        \"*\"        \"*\"           \"*\"                  \n",
       "7  ( 1 )  \"*\"        \"*\"        \"*\"           \"*\"                  \n",
       "8  ( 1 )  \"*\"        \"*\"        \"*\"           \"*\"                  \n",
       "9  ( 1 )  \"*\"        \"*\"        \"*\"           \"*\"                  \n",
       "10  ( 1 ) \"*\"        \"*\"        \"*\"           \"*\"                  \n",
       "11  ( 1 ) \"*\"        \"*\"        \"*\"           \"*\"                  \n",
       "12  ( 1 ) \"*\"        \"*\"        \"*\"           \"*\"                  \n",
       "13  ( 1 ) \"*\"        \"*\"        \"*\"           \"*\"                  \n",
       "14  ( 1 ) \"*\"        \"*\"        \"*\"           \"*\"                  \n",
       "15  ( 1 ) \"*\"        \"*\"        \"*\"           \"*\"                  \n",
       "          ocean_proximityISLAND ocean_proximityNEAR BAY\n",
       "1  ( 1 )  \" \"                   \" \"                    \n",
       "2  ( 1 )  \" \"                   \" \"                    \n",
       "3  ( 1 )  \" \"                   \" \"                    \n",
       "4  ( 1 )  \" \"                   \" \"                    \n",
       "5  ( 1 )  \" \"                   \" \"                    \n",
       "6  ( 1 )  \" \"                   \" \"                    \n",
       "7  ( 1 )  \" \"                   \" \"                    \n",
       "8  ( 1 )  \" \"                   \" \"                    \n",
       "9  ( 1 )  \" \"                   \" \"                    \n",
       "10  ( 1 ) \" \"                   \" \"                    \n",
       "11  ( 1 ) \" \"                   \" \"                    \n",
       "12  ( 1 ) \" \"                   \" \"                    \n",
       "13  ( 1 ) \" \"                   \" \"                    \n",
       "14  ( 1 ) \"*\"                   \" \"                    \n",
       "15  ( 1 ) \"*\"                   \"*\"                    \n",
       "          ocean_proximityNEAR OCEAN rooms_per_household bedrooms_per_household\n",
       "1  ( 1 )  \" \"                       \" \"                 \" \"                   \n",
       "2  ( 1 )  \" \"                       \" \"                 \" \"                   \n",
       "3  ( 1 )  \" \"                       \" \"                 \" \"                   \n",
       "4  ( 1 )  \" \"                       \" \"                 \" \"                   \n",
       "5  ( 1 )  \" \"                       \" \"                 \" \"                   \n",
       "6  ( 1 )  \" \"                       \" \"                 \" \"                   \n",
       "7  ( 1 )  \"*\"                       \" \"                 \" \"                   \n",
       "8  ( 1 )  \"*\"                       \" \"                 \" \"                   \n",
       "9  ( 1 )  \"*\"                       \" \"                 \" \"                   \n",
       "10  ( 1 ) \"*\"                       \" \"                 \" \"                   \n",
       "11  ( 1 ) \"*\"                       \" \"                 \"*\"                   \n",
       "12  ( 1 ) \"*\"                       \"*\"                 \"*\"                   \n",
       "13  ( 1 ) \"*\"                       \"*\"                 \"*\"                   \n",
       "14  ( 1 ) \"*\"                       \"*\"                 \"*\"                   \n",
       "15  ( 1 ) \"*\"                       \"*\"                 \"*\"                   \n",
       "          population_per_household\n",
       "1  ( 1 )  \" \"                     \n",
       "2  ( 1 )  \" \"                     \n",
       "3  ( 1 )  \" \"                     \n",
       "4  ( 1 )  \" \"                     \n",
       "5  ( 1 )  \" \"                     \n",
       "6  ( 1 )  \" \"                     \n",
       "7  ( 1 )  \" \"                     \n",
       "8  ( 1 )  \" \"                     \n",
       "9  ( 1 )  \" \"                     \n",
       "10  ( 1 ) \" \"                     \n",
       "11  ( 1 ) \" \"                     \n",
       "12  ( 1 ) \" \"                     \n",
       "13  ( 1 ) \"*\"                     \n",
       "14  ( 1 ) \"*\"                     \n",
       "15  ( 1 ) \"*\"                     "
      ]
     },
     "metadata": {},
     "output_type": "display_data"
    }
   ],
   "source": [
    "housing_forward_sel <- regsubsets(\n",
    "    x = median_house_value ~ ., nvmax=15,\n",
    "    data = data_selection, \n",
    "    method = \"forward\")\n",
    "housing_forward_summary <- summary(housing_forward_sel)\n",
    "housing_forward_summary"
   ]
  },
  {
   "cell_type": "markdown",
   "metadata": {},
   "source": [
    "To have a more intuitive result, as well as obtain the corresponding statistics of each number of selected variables, a summary table is generated, which is useful to decide the number of variable in the best model. For generative model, we will refer to adjusted $R^2$. To be specific, the `n_input_variables` with the largest adjusted $R^2$ value will be selected. A plot is also generated for a better view and understanding."
   ]
  },
  {
   "cell_type": "code",
   "execution_count": 45,
   "metadata": {},
   "outputs": [
    {
     "data": {
      "text/html": [
       "<table class=\"dataframe\">\n",
       "<caption>A tibble: 15 × 6</caption>\n",
       "<thead>\n",
       "\t<tr><th scope=col>n_input_variables</th><th scope=col>RSQ</th><th scope=col>RSS</th><th scope=col>ADJR2</th><th scope=col>Cp</th><th scope=col>BIC</th></tr>\n",
       "\t<tr><th scope=col>&lt;int&gt;</th><th scope=col>&lt;dbl&gt;</th><th scope=col>&lt;dbl&gt;</th><th scope=col>&lt;dbl&gt;</th><th scope=col>&lt;dbl&gt;</th><th scope=col>&lt;dbl&gt;</th></tr>\n",
       "</thead>\n",
       "<tbody>\n",
       "\t<tr><td> 1</td><td>0.4721471</td><td>7.055552e+13</td><td>0.4720955</td><td>5075.40847</td><td> -6508.924</td></tr>\n",
       "\t<tr><td> 2</td><td>0.5843054</td><td>5.556388e+13</td><td>0.5842240</td><td>1829.13847</td><td> -8939.954</td></tr>\n",
       "\t<tr><td> 3</td><td>0.5949812</td><td>5.413689e+13</td><td>0.5948622</td><td>1521.95049</td><td> -9196.516</td></tr>\n",
       "\t<tr><td> 4</td><td>0.6043904</td><td>5.287921e+13</td><td>0.6042355</td><td>1251.44485</td><td> -9427.419</td></tr>\n",
       "\t<tr><td> 5</td><td>0.6281970</td><td>4.969710e+13</td><td>0.6280149</td><td> 563.97116</td><td>-10052.229</td></tr>\n",
       "\t<tr><td> 6</td><td>0.6309269</td><td>4.933220e+13</td><td>0.6307100</td><td> 486.90781</td><td>-10118.285</td></tr>\n",
       "\t<tr><td> 7</td><td>0.6322324</td><td>4.915770e+13</td><td>0.6319802</td><td> 451.09898</td><td>-10145.253</td></tr>\n",
       "\t<tr><td> 8</td><td>0.6335348</td><td>4.898361e+13</td><td>0.6332476</td><td> 415.37899</td><td>-10172.265</td></tr>\n",
       "\t<tr><td> 9</td><td>0.6348471</td><td>4.880821e+13</td><td>0.6345251</td><td> 379.37323</td><td>-10199.682</td></tr>\n",
       "\t<tr><td>10</td><td>0.6454950</td><td>4.738495e+13</td><td>0.6451477</td><td>  72.99373</td><td>-10492.780</td></tr>\n",
       "\t<tr><td>11</td><td>0.6460367</td><td>4.731255e+13</td><td>0.6456552</td><td>  59.30571</td><td>-10499.170</td></tr>\n",
       "\t<tr><td>12</td><td>0.6469152</td><td>4.719512e+13</td><td>0.6465000</td><td>  35.86268</td><td>-10515.325</td></tr>\n",
       "\t<tr><td>13</td><td>0.6473597</td><td>4.713571e+13</td><td>0.6469104</td><td>  24.99028</td><td>-10518.962</td></tr>\n",
       "\t<tr><td>14</td><td>0.6477887</td><td>4.707838e+13</td><td>0.6473053</td><td>  14.56722</td><td>-10522.164</td></tr>\n",
       "\t<tr><td>15</td><td>0.6478082</td><td>4.707576e+13</td><td>0.6472903</td><td>  16.00000</td><td>-10513.501</td></tr>\n",
       "</tbody>\n",
       "</table>\n"
      ],
      "text/latex": [
       "A tibble: 15 × 6\n",
       "\\begin{tabular}{llllll}\n",
       " n\\_input\\_variables & RSQ & RSS & ADJR2 & Cp & BIC\\\\\n",
       " <int> & <dbl> & <dbl> & <dbl> & <dbl> & <dbl>\\\\\n",
       "\\hline\n",
       "\t  1 & 0.4721471 & 7.055552e+13 & 0.4720955 & 5075.40847 &  -6508.924\\\\\n",
       "\t  2 & 0.5843054 & 5.556388e+13 & 0.5842240 & 1829.13847 &  -8939.954\\\\\n",
       "\t  3 & 0.5949812 & 5.413689e+13 & 0.5948622 & 1521.95049 &  -9196.516\\\\\n",
       "\t  4 & 0.6043904 & 5.287921e+13 & 0.6042355 & 1251.44485 &  -9427.419\\\\\n",
       "\t  5 & 0.6281970 & 4.969710e+13 & 0.6280149 &  563.97116 & -10052.229\\\\\n",
       "\t  6 & 0.6309269 & 4.933220e+13 & 0.6307100 &  486.90781 & -10118.285\\\\\n",
       "\t  7 & 0.6322324 & 4.915770e+13 & 0.6319802 &  451.09898 & -10145.253\\\\\n",
       "\t  8 & 0.6335348 & 4.898361e+13 & 0.6332476 &  415.37899 & -10172.265\\\\\n",
       "\t  9 & 0.6348471 & 4.880821e+13 & 0.6345251 &  379.37323 & -10199.682\\\\\n",
       "\t 10 & 0.6454950 & 4.738495e+13 & 0.6451477 &   72.99373 & -10492.780\\\\\n",
       "\t 11 & 0.6460367 & 4.731255e+13 & 0.6456552 &   59.30571 & -10499.170\\\\\n",
       "\t 12 & 0.6469152 & 4.719512e+13 & 0.6465000 &   35.86268 & -10515.325\\\\\n",
       "\t 13 & 0.6473597 & 4.713571e+13 & 0.6469104 &   24.99028 & -10518.962\\\\\n",
       "\t 14 & 0.6477887 & 4.707838e+13 & 0.6473053 &   14.56722 & -10522.164\\\\\n",
       "\t 15 & 0.6478082 & 4.707576e+13 & 0.6472903 &   16.00000 & -10513.501\\\\\n",
       "\\end{tabular}\n"
      ],
      "text/markdown": [
       "\n",
       "A tibble: 15 × 6\n",
       "\n",
       "| n_input_variables &lt;int&gt; | RSQ &lt;dbl&gt; | RSS &lt;dbl&gt; | ADJR2 &lt;dbl&gt; | Cp &lt;dbl&gt; | BIC &lt;dbl&gt; |\n",
       "|---|---|---|---|---|---|\n",
       "|  1 | 0.4721471 | 7.055552e+13 | 0.4720955 | 5075.40847 |  -6508.924 |\n",
       "|  2 | 0.5843054 | 5.556388e+13 | 0.5842240 | 1829.13847 |  -8939.954 |\n",
       "|  3 | 0.5949812 | 5.413689e+13 | 0.5948622 | 1521.95049 |  -9196.516 |\n",
       "|  4 | 0.6043904 | 5.287921e+13 | 0.6042355 | 1251.44485 |  -9427.419 |\n",
       "|  5 | 0.6281970 | 4.969710e+13 | 0.6280149 |  563.97116 | -10052.229 |\n",
       "|  6 | 0.6309269 | 4.933220e+13 | 0.6307100 |  486.90781 | -10118.285 |\n",
       "|  7 | 0.6322324 | 4.915770e+13 | 0.6319802 |  451.09898 | -10145.253 |\n",
       "|  8 | 0.6335348 | 4.898361e+13 | 0.6332476 |  415.37899 | -10172.265 |\n",
       "|  9 | 0.6348471 | 4.880821e+13 | 0.6345251 |  379.37323 | -10199.682 |\n",
       "| 10 | 0.6454950 | 4.738495e+13 | 0.6451477 |   72.99373 | -10492.780 |\n",
       "| 11 | 0.6460367 | 4.731255e+13 | 0.6456552 |   59.30571 | -10499.170 |\n",
       "| 12 | 0.6469152 | 4.719512e+13 | 0.6465000 |   35.86268 | -10515.325 |\n",
       "| 13 | 0.6473597 | 4.713571e+13 | 0.6469104 |   24.99028 | -10518.962 |\n",
       "| 14 | 0.6477887 | 4.707838e+13 | 0.6473053 |   14.56722 | -10522.164 |\n",
       "| 15 | 0.6478082 | 4.707576e+13 | 0.6472903 |   16.00000 | -10513.501 |\n",
       "\n"
      ],
      "text/plain": [
       "   n_input_variables RSQ       RSS          ADJR2     Cp         BIC       \n",
       "1   1                0.4721471 7.055552e+13 0.4720955 5075.40847  -6508.924\n",
       "2   2                0.5843054 5.556388e+13 0.5842240 1829.13847  -8939.954\n",
       "3   3                0.5949812 5.413689e+13 0.5948622 1521.95049  -9196.516\n",
       "4   4                0.6043904 5.287921e+13 0.6042355 1251.44485  -9427.419\n",
       "5   5                0.6281970 4.969710e+13 0.6280149  563.97116 -10052.229\n",
       "6   6                0.6309269 4.933220e+13 0.6307100  486.90781 -10118.285\n",
       "7   7                0.6322324 4.915770e+13 0.6319802  451.09898 -10145.253\n",
       "8   8                0.6335348 4.898361e+13 0.6332476  415.37899 -10172.265\n",
       "9   9                0.6348471 4.880821e+13 0.6345251  379.37323 -10199.682\n",
       "10 10                0.6454950 4.738495e+13 0.6451477   72.99373 -10492.780\n",
       "11 11                0.6460367 4.731255e+13 0.6456552   59.30571 -10499.170\n",
       "12 12                0.6469152 4.719512e+13 0.6465000   35.86268 -10515.325\n",
       "13 13                0.6473597 4.713571e+13 0.6469104   24.99028 -10518.962\n",
       "14 14                0.6477887 4.707838e+13 0.6473053   14.56722 -10522.164\n",
       "15 15                0.6478082 4.707576e+13 0.6472903   16.00000 -10513.501"
      ]
     },
     "metadata": {},
     "output_type": "display_data"
    }
   ],
   "source": [
    "housing_forward_summary_df <- tibble(\n",
    "    n_input_variables = 1:15,\n",
    "    RSQ = housing_forward_summary$rsq,\n",
    "    RSS = housing_forward_summary$rss,\n",
    "    ADJR2 = housing_forward_summary$adjr2,\n",
    "    Cp = housing_forward_summary$cp,\n",
    "    BIC = housing_forward_summary$bic)\n",
    "housing_forward_summary_df"
   ]
  },
  {
   "cell_type": "code",
   "execution_count": 49,
   "metadata": {},
   "outputs": [
    {
     "data": {
      "image/png": "[encoded data removed]",
      "text/plain": [
       "Plot with title “ADJ.R2 for Forward Selection”"
      ]
     },
     "metadata": {
      "image/png": {
       "height": 420,
       "width": 420
      }
     },
     "output_type": "display_data"
    }
   ],
   "source": [
    "plot(summary(housing_forward_sel)$adjr2,\n",
    "    main = \"ADJ.R2 for Forward Selection\", xlab = \"Number of Variables\", ylab=\"ADJ.R2\",\n",
    "    type = \"b\", pch = 15, col=\"blue\")"
   ]
  },
  {
   "cell_type": "markdown",
   "metadata": {},
   "source": [
    "As the results shown, the best model contains 14 variables based on Forward selection. In this model, all the variable except `ocean_proximityNEAR BAY` are used. The corresponding adjusted $R^2$ value is 0.6473, which is the largest among all the possible $n$s.\n",
    "\n",
    "To ensure the correctness and validation of our selection, Backward Algorithm will also be performed. We will still use the dataset `data_selection`. The summary of the selection as well as the table with all possible number of variables and the corresponding statistics will be generated."
   ]
  },
  {
   "cell_type": "code",
   "execution_count": 52,
   "metadata": {},
   "outputs": [
    {
     "data": {
      "text/plain": [
       "Subset selection object\n",
       "Call: regsubsets.formula(x = median_house_value ~ ., nvmax = 15, data = data_selection, \n",
       "    method = \"backward\", )\n",
       "15 Variables  (and intercept)\n",
       "                          Forced in Forced out\n",
       "longitude                     FALSE      FALSE\n",
       "latitude                      FALSE      FALSE\n",
       "housing_median_age            FALSE      FALSE\n",
       "total_rooms                   FALSE      FALSE\n",
       "total_bedrooms                FALSE      FALSE\n",
       "population                    FALSE      FALSE\n",
       "households                    FALSE      FALSE\n",
       "median_income                 FALSE      FALSE\n",
       "ocean_proximityINLAND         FALSE      FALSE\n",
       "ocean_proximityISLAND         FALSE      FALSE\n",
       "ocean_proximityNEAR BAY       FALSE      FALSE\n",
       "ocean_proximityNEAR OCEAN     FALSE      FALSE\n",
       "rooms_per_household           FALSE      FALSE\n",
       "bedrooms_per_household        FALSE      FALSE\n",
       "population_per_household      FALSE      FALSE\n",
       "1 subsets of each size up to 15\n",
       "Selection Algorithm: backward\n",
       "          longitude latitude housing_median_age total_rooms total_bedrooms\n",
       "1  ( 1 )  \" \"       \" \"      \" \"                \" \"         \" \"           \n",
       "2  ( 1 )  \" \"       \"*\"      \" \"                \" \"         \" \"           \n",
       "3  ( 1 )  \"*\"       \"*\"      \" \"                \" \"         \" \"           \n",
       "4  ( 1 )  \"*\"       \"*\"      \" \"                \" \"         \" \"           \n",
       "5  ( 1 )  \"*\"       \"*\"      \" \"                \" \"         \" \"           \n",
       "6  ( 1 )  \"*\"       \"*\"      \"*\"                \" \"         \" \"           \n",
       "7  ( 1 )  \"*\"       \"*\"      \"*\"                \" \"         \" \"           \n",
       "8  ( 1 )  \"*\"       \"*\"      \"*\"                \" \"         \" \"           \n",
       "9  ( 1 )  \"*\"       \"*\"      \"*\"                \" \"         \" \"           \n",
       "10  ( 1 ) \"*\"       \"*\"      \"*\"                \" \"         \"*\"           \n",
       "11  ( 1 ) \"*\"       \"*\"      \"*\"                \" \"         \"*\"           \n",
       "12  ( 1 ) \"*\"       \"*\"      \"*\"                \" \"         \"*\"           \n",
       "13  ( 1 ) \"*\"       \"*\"      \"*\"                \" \"         \"*\"           \n",
       "14  ( 1 ) \"*\"       \"*\"      \"*\"                \"*\"         \"*\"           \n",
       "15  ( 1 ) \"*\"       \"*\"      \"*\"                \"*\"         \"*\"           \n",
       "          population households median_income ocean_proximityINLAND\n",
       "1  ( 1 )  \" \"        \" \"        \"*\"           \" \"                  \n",
       "2  ( 1 )  \" \"        \" \"        \"*\"           \" \"                  \n",
       "3  ( 1 )  \" \"        \" \"        \"*\"           \" \"                  \n",
       "4  ( 1 )  \" \"        \"*\"        \"*\"           \" \"                  \n",
       "5  ( 1 )  \"*\"        \"*\"        \"*\"           \" \"                  \n",
       "6  ( 1 )  \"*\"        \"*\"        \"*\"           \" \"                  \n",
       "7  ( 1 )  \"*\"        \"*\"        \"*\"           \"*\"                  \n",
       "8  ( 1 )  \"*\"        \"*\"        \"*\"           \"*\"                  \n",
       "9  ( 1 )  \"*\"        \"*\"        \"*\"           \"*\"                  \n",
       "10  ( 1 ) \"*\"        \"*\"        \"*\"           \"*\"                  \n",
       "11  ( 1 ) \"*\"        \"*\"        \"*\"           \"*\"                  \n",
       "12  ( 1 ) \"*\"        \"*\"        \"*\"           \"*\"                  \n",
       "13  ( 1 ) \"*\"        \"*\"        \"*\"           \"*\"                  \n",
       "14  ( 1 ) \"*\"        \"*\"        \"*\"           \"*\"                  \n",
       "15  ( 1 ) \"*\"        \"*\"        \"*\"           \"*\"                  \n",
       "          ocean_proximityISLAND ocean_proximityNEAR BAY\n",
       "1  ( 1 )  \" \"                   \" \"                    \n",
       "2  ( 1 )  \" \"                   \" \"                    \n",
       "3  ( 1 )  \" \"                   \" \"                    \n",
       "4  ( 1 )  \" \"                   \" \"                    \n",
       "5  ( 1 )  \" \"                   \" \"                    \n",
       "6  ( 1 )  \" \"                   \" \"                    \n",
       "7  ( 1 )  \" \"                   \" \"                    \n",
       "8  ( 1 )  \" \"                   \" \"                    \n",
       "9  ( 1 )  \" \"                   \" \"                    \n",
       "10  ( 1 ) \" \"                   \" \"                    \n",
       "11  ( 1 ) \" \"                   \" \"                    \n",
       "12  ( 1 ) \"*\"                   \" \"                    \n",
       "13  ( 1 ) \"*\"                   \" \"                    \n",
       "14  ( 1 ) \"*\"                   \" \"                    \n",
       "15  ( 1 ) \"*\"                   \"*\"                    \n",
       "          ocean_proximityNEAR OCEAN rooms_per_household bedrooms_per_household\n",
       "1  ( 1 )  \" \"                       \" \"                 \" \"                   \n",
       "2  ( 1 )  \" \"                       \" \"                 \" \"                   \n",
       "3  ( 1 )  \" \"                       \" \"                 \" \"                   \n",
       "4  ( 1 )  \" \"                       \" \"                 \" \"                   \n",
       "5  ( 1 )  \" \"                       \" \"                 \" \"                   \n",
       "6  ( 1 )  \" \"                       \" \"                 \" \"                   \n",
       "7  ( 1 )  \" \"                       \" \"                 \" \"                   \n",
       "8  ( 1 )  \" \"                       \" \"                 \"*\"                   \n",
       "9  ( 1 )  \" \"                       \"*\"                 \"*\"                   \n",
       "10  ( 1 ) \" \"                       \"*\"                 \"*\"                   \n",
       "11  ( 1 ) \" \"                       \"*\"                 \"*\"                   \n",
       "12  ( 1 ) \" \"                       \"*\"                 \"*\"                   \n",
       "13  ( 1 ) \"*\"                       \"*\"                 \"*\"                   \n",
       "14  ( 1 ) \"*\"                       \"*\"                 \"*\"                   \n",
       "15  ( 1 ) \"*\"                       \"*\"                 \"*\"                   \n",
       "          population_per_household\n",
       "1  ( 1 )  \" \"                     \n",
       "2  ( 1 )  \" \"                     \n",
       "3  ( 1 )  \" \"                     \n",
       "4  ( 1 )  \" \"                     \n",
       "5  ( 1 )  \" \"                     \n",
       "6  ( 1 )  \" \"                     \n",
       "7  ( 1 )  \" \"                     \n",
       "8  ( 1 )  \" \"                     \n",
       "9  ( 1 )  \" \"                     \n",
       "10  ( 1 ) \" \"                     \n",
       "11  ( 1 ) \"*\"                     \n",
       "12  ( 1 ) \"*\"                     \n",
       "13  ( 1 ) \"*\"                     \n",
       "14  ( 1 ) \"*\"                     \n",
       "15  ( 1 ) \"*\"                     "
      ]
     },
     "metadata": {},
     "output_type": "display_data"
    }
   ],
   "source": [
    "housing_backward_sel <- regsubsets(\n",
    "    x = median_house_value ~ ., nvmax=15,\n",
    "    data = data_selection, \n",
    "    method=\"backward\",\n",
    ")\n",
    "housing_backward_summary <- summary(housing_backward_sel)\n",
    "housing_backward_summary"
   ]
  },
  {
   "cell_type": "code",
   "execution_count": 53,
   "metadata": {},
   "outputs": [
    {
     "data": {
      "text/html": [
       "<table class=\"dataframe\">\n",
       "<caption>A tibble: 15 × 6</caption>\n",
       "<thead>\n",
       "\t<tr><th scope=col>n_input_variables</th><th scope=col>RSQ</th><th scope=col>RSS</th><th scope=col>ADJR2</th><th scope=col>Cp</th><th scope=col>BIC</th></tr>\n",
       "\t<tr><th scope=col>&lt;int&gt;</th><th scope=col>&lt;dbl&gt;</th><th scope=col>&lt;dbl&gt;</th><th scope=col>&lt;dbl&gt;</th><th scope=col>&lt;dbl&gt;</th><th scope=col>&lt;dbl&gt;</th></tr>\n",
       "</thead>\n",
       "<tbody>\n",
       "\t<tr><td> 1</td><td>0.4721471</td><td>7.055552e+13</td><td>0.4720955</td><td>5075.40847</td><td> -6508.924</td></tr>\n",
       "\t<tr><td> 2</td><td>0.4795008</td><td>6.957259e+13</td><td>0.4793989</td><td>4864.43466</td><td> -6643.015</td></tr>\n",
       "\t<tr><td> 3</td><td>0.5848575</td><td>5.549008e+13</td><td>0.5847356</td><td>1815.14719</td><td> -8944.301</td></tr>\n",
       "\t<tr><td> 4</td><td>0.5870395</td><td>5.519842e+13</td><td>0.5868778</td><td>1753.95292</td><td> -8988.907</td></tr>\n",
       "\t<tr><td> 5</td><td>0.6172433</td><td>5.116123e+13</td><td>0.6170558</td><td> 881.20763</td><td> -9755.603</td></tr>\n",
       "\t<tr><td> 6</td><td>0.6312813</td><td>4.928483e+13</td><td>0.6310646</td><td> 476.64468</td><td>-10128.099</td></tr>\n",
       "\t<tr><td> 7</td><td>0.6421492</td><td>4.783218e+13</td><td>0.6419038</td><td> 163.89479</td><td>-10424.507</td></tr>\n",
       "\t<tr><td> 8</td><td>0.6439205</td><td>4.759541e+13</td><td>0.6436414</td><td> 114.59473</td><td>-10465.969</td></tr>\n",
       "\t<tr><td> 9</td><td>0.6453896</td><td>4.739905e+13</td><td>0.6450769</td><td>  74.04854</td><td>-10498.972</td></tr>\n",
       "\t<tr><td>10</td><td>0.6465535</td><td>4.724347e+13</td><td>0.6462072</td><td>  42.33792</td><td>-10523.329</td></tr>\n",
       "\t<tr><td>11</td><td>0.6470445</td><td>4.717785e+13</td><td>0.6466640</td><td>  30.12023</td><td>-10528.297</td></tr>\n",
       "\t<tr><td>12</td><td>0.6474596</td><td>4.712236e+13</td><td>0.6470450</td><td>  20.09725</td><td>-10531.088</td></tr>\n",
       "\t<tr><td>13</td><td>0.6477308</td><td>4.708611e+13</td><td>0.6472819</td><td>  14.24351</td><td>-10529.717</td></tr>\n",
       "\t<tr><td>14</td><td>0.6477887</td><td>4.707838e+13</td><td>0.6473053</td><td>  14.56722</td><td>-10522.164</td></tr>\n",
       "\t<tr><td>15</td><td>0.6478082</td><td>4.707576e+13</td><td>0.6472903</td><td>  16.00000</td><td>-10513.501</td></tr>\n",
       "</tbody>\n",
       "</table>\n"
      ],
      "text/latex": [
       "A tibble: 15 × 6\n",
       "\\begin{tabular}{llllll}\n",
       " n\\_input\\_variables & RSQ & RSS & ADJR2 & Cp & BIC\\\\\n",
       " <int> & <dbl> & <dbl> & <dbl> & <dbl> & <dbl>\\\\\n",
       "\\hline\n",
       "\t  1 & 0.4721471 & 7.055552e+13 & 0.4720955 & 5075.40847 &  -6508.924\\\\\n",
       "\t  2 & 0.4795008 & 6.957259e+13 & 0.4793989 & 4864.43466 &  -6643.015\\\\\n",
       "\t  3 & 0.5848575 & 5.549008e+13 & 0.5847356 & 1815.14719 &  -8944.301\\\\\n",
       "\t  4 & 0.5870395 & 5.519842e+13 & 0.5868778 & 1753.95292 &  -8988.907\\\\\n",
       "\t  5 & 0.6172433 & 5.116123e+13 & 0.6170558 &  881.20763 &  -9755.603\\\\\n",
       "\t  6 & 0.6312813 & 4.928483e+13 & 0.6310646 &  476.64468 & -10128.099\\\\\n",
       "\t  7 & 0.6421492 & 4.783218e+13 & 0.6419038 &  163.89479 & -10424.507\\\\\n",
       "\t  8 & 0.6439205 & 4.759541e+13 & 0.6436414 &  114.59473 & -10465.969\\\\\n",
       "\t  9 & 0.6453896 & 4.739905e+13 & 0.6450769 &   74.04854 & -10498.972\\\\\n",
       "\t 10 & 0.6465535 & 4.724347e+13 & 0.6462072 &   42.33792 & -10523.329\\\\\n",
       "\t 11 & 0.6470445 & 4.717785e+13 & 0.6466640 &   30.12023 & -10528.297\\\\\n",
       "\t 12 & 0.6474596 & 4.712236e+13 & 0.6470450 &   20.09725 & -10531.088\\\\\n",
       "\t 13 & 0.6477308 & 4.708611e+13 & 0.6472819 &   14.24351 & -10529.717\\\\\n",
       "\t 14 & 0.6477887 & 4.707838e+13 & 0.6473053 &   14.56722 & -10522.164\\\\\n",
       "\t 15 & 0.6478082 & 4.707576e+13 & 0.6472903 &   16.00000 & -10513.501\\\\\n",
       "\\end{tabular}\n"
      ],
      "text/markdown": [
       "\n",
       "A tibble: 15 × 6\n",
       "\n",
       "| n_input_variables &lt;int&gt; | RSQ &lt;dbl&gt; | RSS &lt;dbl&gt; | ADJR2 &lt;dbl&gt; | Cp &lt;dbl&gt; | BIC &lt;dbl&gt; |\n",
       "|---|---|---|---|---|---|\n",
       "|  1 | 0.4721471 | 7.055552e+13 | 0.4720955 | 5075.40847 |  -6508.924 |\n",
       "|  2 | 0.4795008 | 6.957259e+13 | 0.4793989 | 4864.43466 |  -6643.015 |\n",
       "|  3 | 0.5848575 | 5.549008e+13 | 0.5847356 | 1815.14719 |  -8944.301 |\n",
       "|  4 | 0.5870395 | 5.519842e+13 | 0.5868778 | 1753.95292 |  -8988.907 |\n",
       "|  5 | 0.6172433 | 5.116123e+13 | 0.6170558 |  881.20763 |  -9755.603 |\n",
       "|  6 | 0.6312813 | 4.928483e+13 | 0.6310646 |  476.64468 | -10128.099 |\n",
       "|  7 | 0.6421492 | 4.783218e+13 | 0.6419038 |  163.89479 | -10424.507 |\n",
       "|  8 | 0.6439205 | 4.759541e+13 | 0.6436414 |  114.59473 | -10465.969 |\n",
       "|  9 | 0.6453896 | 4.739905e+13 | 0.6450769 |   74.04854 | -10498.972 |\n",
       "| 10 | 0.6465535 | 4.724347e+13 | 0.6462072 |   42.33792 | -10523.329 |\n",
       "| 11 | 0.6470445 | 4.717785e+13 | 0.6466640 |   30.12023 | -10528.297 |\n",
       "| 12 | 0.6474596 | 4.712236e+13 | 0.6470450 |   20.09725 | -10531.088 |\n",
       "| 13 | 0.6477308 | 4.708611e+13 | 0.6472819 |   14.24351 | -10529.717 |\n",
       "| 14 | 0.6477887 | 4.707838e+13 | 0.6473053 |   14.56722 | -10522.164 |\n",
       "| 15 | 0.6478082 | 4.707576e+13 | 0.6472903 |   16.00000 | -10513.501 |\n",
       "\n"
      ],
      "text/plain": [
       "   n_input_variables RSQ       RSS          ADJR2     Cp         BIC       \n",
       "1   1                0.4721471 7.055552e+13 0.4720955 5075.40847  -6508.924\n",
       "2   2                0.4795008 6.957259e+13 0.4793989 4864.43466  -6643.015\n",
       "3   3                0.5848575 5.549008e+13 0.5847356 1815.14719  -8944.301\n",
       "4   4                0.5870395 5.519842e+13 0.5868778 1753.95292  -8988.907\n",
       "5   5                0.6172433 5.116123e+13 0.6170558  881.20763  -9755.603\n",
       "6   6                0.6312813 4.928483e+13 0.6310646  476.64468 -10128.099\n",
       "7   7                0.6421492 4.783218e+13 0.6419038  163.89479 -10424.507\n",
       "8   8                0.6439205 4.759541e+13 0.6436414  114.59473 -10465.969\n",
       "9   9                0.6453896 4.739905e+13 0.6450769   74.04854 -10498.972\n",
       "10 10                0.6465535 4.724347e+13 0.6462072   42.33792 -10523.329\n",
       "11 11                0.6470445 4.717785e+13 0.6466640   30.12023 -10528.297\n",
       "12 12                0.6474596 4.712236e+13 0.6470450   20.09725 -10531.088\n",
       "13 13                0.6477308 4.708611e+13 0.6472819   14.24351 -10529.717\n",
       "14 14                0.6477887 4.707838e+13 0.6473053   14.56722 -10522.164\n",
       "15 15                0.6478082 4.707576e+13 0.6472903   16.00000 -10513.501"
      ]
     },
     "metadata": {},
     "output_type": "display_data"
    }
   ],
   "source": [
    "housing_backward_summary_df <- tibble(\n",
    "    n_input_variables = 1:15,\n",
    "    RSQ = housing_backward_summary$rsq,\n",
    "    RSS = housing_backward_summary$rss,\n",
    "    ADJR2 = housing_backward_summary$adjr2,\n",
    "    Cp = housing_backward_summary$cp,\n",
    "    BIC = housing_backward_summary$bic)\n",
    "housing_backward_summary_df"
   ]
  },
  {
   "cell_type": "code",
   "execution_count": 56,
   "metadata": {},
   "outputs": [
    {
     "data": {
      "image/png": "[encoded data removed]",
      "text/plain": [
       "Plot with title “ADJ.R2 for Backward Selection”"
      ]
     },
     "metadata": {
      "image/png": {
       "height": 420,
       "width": 420
      }
     },
     "output_type": "display_data"
    }
   ],
   "source": [
    "plot(summary(housing_backward_sel)$adjr2,\n",
    "    main = \"ADJ.R2 for Backward Selection\", xlab = \"Number of Variables\", ylab=\"ADJ.R2\",\n",
    "    type = \"b\", pch = 15, col=\"blue\")"
   ]
  },
  {
   "cell_type": "markdown",
   "metadata": {},
   "source": [
    "From the results above, it is clear that the number of selective variable is also 14, with the same adjusted $R^2$, 0.6473. The selected model is also the one with all the variables except `ocean_proximityNEAR BAY`."
   ]
  },
  {
   "cell_type": "code",
   "execution_count": null,
   "metadata": {},
   "outputs": [],
   "source": []
  }
 ],
 "metadata": {
  "kernelspec": {
   "display_name": "R",
   "language": "R",
   "name": "ir"
  },
  "language_info": {
   "codemirror_mode": "r",
   "file_extension": ".r",
   "mimetype": "text/x-r-source",
   "name": "R",
   "pygments_lexer": "r",
   "version": "4.1.2"
  },
  "vscode": {
   "interpreter": {
    "hash": "aee8b7b246df8f9039afb4144a1f6fd8d2ca17a180786b69acc140d282b71a49"
   }
  }
 },
 "nbformat": 4,
 "nbformat_minor": 4
}
