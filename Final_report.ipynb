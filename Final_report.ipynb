{
 "cells": [
  {
   "cell_type": "code",
   "execution_count": 1,
   "metadata": {
    "vscode": {
     "languageId": "r"
    }
   },
   "outputs": [
    {
     "name": "stderr",
     "output_type": "stream",
     "text": [
      "-- \u001b[1mAttaching packages\u001b[22m --------------------------------------- tidyverse 1.3.1 --\n",
      "\n",
      "\u001b[32mv\u001b[39m \u001b[34mggplot2\u001b[39m 3.3.5     \u001b[32mv\u001b[39m \u001b[34mpurrr  \u001b[39m 0.3.4\n",
      "\u001b[32mv\u001b[39m \u001b[34mtibble \u001b[39m 3.1.6     \u001b[32mv\u001b[39m \u001b[34mdplyr  \u001b[39m 1.0.8\n",
      "\u001b[32mv\u001b[39m \u001b[34mtidyr  \u001b[39m 1.2.0     \u001b[32mv\u001b[39m \u001b[34mstringr\u001b[39m 1.4.0\n",
      "\u001b[32mv\u001b[39m \u001b[34mreadr  \u001b[39m 2.1.2     \u001b[32mv\u001b[39m \u001b[34mforcats\u001b[39m 0.5.1\n",
      "\n",
      "-- \u001b[1mConflicts\u001b[22m ------------------------------------------ tidyverse_conflicts() --\n",
      "\u001b[31mx\u001b[39m \u001b[34mdplyr\u001b[39m::\u001b[32mfilter()\u001b[39m masks \u001b[34mstats\u001b[39m::filter()\n",
      "\u001b[31mx\u001b[39m \u001b[34mdplyr\u001b[39m::\u001b[32mlag()\u001b[39m    masks \u001b[34mstats\u001b[39m::lag()\n",
      "\n",
      "Loading required package: Matrix\n",
      "\n",
      "\n",
      "Attaching package: 'Matrix'\n",
      "\n",
      "\n",
      "The following objects are masked from 'package:tidyr':\n",
      "\n",
      "    expand, pack, unpack\n",
      "\n",
      "\n",
      "Loaded glmnet 4.1-6\n",
      "\n",
      "Loading required package: carData\n",
      "\n",
      "\n",
      "Attaching package: 'car'\n",
      "\n",
      "\n",
      "The following object is masked from 'package:dplyr':\n",
      "\n",
      "    recode\n",
      "\n",
      "\n",
      "The following object is masked from 'package:purrr':\n",
      "\n",
      "    some\n",
      "\n",
      "\n"
     ]
    }
   ],
   "source": [
    "library(tidyverse)\n",
    "library(dplyr)\n",
    "library(glmnet)\n",
    "library(car)\n",
    "library(broom)\n",
    "library(leaps)"
   ]
  },
  {
   "cell_type": "markdown",
   "metadata": {},
   "source": [
    "## Data loading and preprocessing"
   ]
  },
  {
   "cell_type": "code",
   "execution_count": 3,
   "metadata": {
    "vscode": {
     "languageId": "r"
    }
   },
   "outputs": [
    {
     "name": "stderr",
     "output_type": "stream",
     "text": [
      "New names:\n",
      "* `` -> ...1\n",
      "\n"
     ]
    }
   ],
   "source": [
    "data <- read_csv(\"house_data.csv\", show_col_types = FALSE) %>% drop_na()"
   ]
  },
  {
   "cell_type": "code",
   "execution_count": 4,
   "metadata": {
    "vscode": {
     "languageId": "r"
    }
   },
   "outputs": [
    {
     "data": {
      "text/html": [
       "<table class=\"dataframe\">\n",
       "<caption>A tibble: 6 × 13</caption>\n",
       "<thead>\n",
       "\t<tr><th scope=col>longitude</th><th scope=col>latitude</th><th scope=col>housing_median_age</th><th scope=col>total_rooms</th><th scope=col>total_bedrooms</th><th scope=col>population</th><th scope=col>households</th><th scope=col>median_income</th><th scope=col>ocean_proximity</th><th scope=col>rooms_per_household</th><th scope=col>bedrooms_per_household</th><th scope=col>population_per_household</th><th scope=col>median_house_value</th></tr>\n",
       "\t<tr><th scope=col>&lt;dbl&gt;</th><th scope=col>&lt;dbl&gt;</th><th scope=col>&lt;dbl&gt;</th><th scope=col>&lt;dbl&gt;</th><th scope=col>&lt;dbl&gt;</th><th scope=col>&lt;dbl&gt;</th><th scope=col>&lt;dbl&gt;</th><th scope=col>&lt;dbl&gt;</th><th scope=col>&lt;chr&gt;</th><th scope=col>&lt;dbl&gt;</th><th scope=col>&lt;dbl&gt;</th><th scope=col>&lt;dbl&gt;</th><th scope=col>&lt;dbl&gt;</th></tr>\n",
       "</thead>\n",
       "<tbody>\n",
       "\t<tr><td>-122.23</td><td>37.88</td><td>41</td><td> 880</td><td> 129</td><td> 322</td><td> 126</td><td>8.3252</td><td>NEAR BAY</td><td>6.984127</td><td>1.0238095</td><td>2.555556</td><td>452600</td></tr>\n",
       "\t<tr><td>-122.22</td><td>37.86</td><td>21</td><td>7099</td><td>1106</td><td>2401</td><td>1138</td><td>8.3014</td><td>NEAR BAY</td><td>6.238137</td><td>0.9718805</td><td>2.109842</td><td>358500</td></tr>\n",
       "\t<tr><td>-122.24</td><td>37.85</td><td>52</td><td>1467</td><td> 190</td><td> 496</td><td> 177</td><td>7.2574</td><td>NEAR BAY</td><td>8.288136</td><td>1.0734463</td><td>2.802260</td><td>352100</td></tr>\n",
       "\t<tr><td>-122.25</td><td>37.85</td><td>52</td><td>1274</td><td> 235</td><td> 558</td><td> 219</td><td>5.6431</td><td>NEAR BAY</td><td>5.817352</td><td>1.0730594</td><td>2.547945</td><td>341300</td></tr>\n",
       "\t<tr><td>-122.25</td><td>37.85</td><td>52</td><td>1627</td><td> 280</td><td> 565</td><td> 259</td><td>3.8462</td><td>NEAR BAY</td><td>6.281853</td><td>1.0810811</td><td>2.181467</td><td>342200</td></tr>\n",
       "\t<tr><td>-122.25</td><td>37.85</td><td>52</td><td> 919</td><td> 213</td><td> 413</td><td> 193</td><td>4.0368</td><td>NEAR BAY</td><td>4.761658</td><td>1.1036269</td><td>2.139896</td><td>269700</td></tr>\n",
       "</tbody>\n",
       "</table>\n"
      ],
      "text/latex": [
       "A tibble: 6 × 13\n",
       "\\begin{tabular}{lllllllllllll}\n",
       " longitude & latitude & housing\\_median\\_age & total\\_rooms & total\\_bedrooms & population & households & median\\_income & ocean\\_proximity & rooms\\_per\\_household & bedrooms\\_per\\_household & population\\_per\\_household & median\\_house\\_value\\\\\n",
       " <dbl> & <dbl> & <dbl> & <dbl> & <dbl> & <dbl> & <dbl> & <dbl> & <chr> & <dbl> & <dbl> & <dbl> & <dbl>\\\\\n",
       "\\hline\n",
       "\t -122.23 & 37.88 & 41 &  880 &  129 &  322 &  126 & 8.3252 & NEAR BAY & 6.984127 & 1.0238095 & 2.555556 & 452600\\\\\n",
       "\t -122.22 & 37.86 & 21 & 7099 & 1106 & 2401 & 1138 & 8.3014 & NEAR BAY & 6.238137 & 0.9718805 & 2.109842 & 358500\\\\\n",
       "\t -122.24 & 37.85 & 52 & 1467 &  190 &  496 &  177 & 7.2574 & NEAR BAY & 8.288136 & 1.0734463 & 2.802260 & 352100\\\\\n",
       "\t -122.25 & 37.85 & 52 & 1274 &  235 &  558 &  219 & 5.6431 & NEAR BAY & 5.817352 & 1.0730594 & 2.547945 & 341300\\\\\n",
       "\t -122.25 & 37.85 & 52 & 1627 &  280 &  565 &  259 & 3.8462 & NEAR BAY & 6.281853 & 1.0810811 & 2.181467 & 342200\\\\\n",
       "\t -122.25 & 37.85 & 52 &  919 &  213 &  413 &  193 & 4.0368 & NEAR BAY & 4.761658 & 1.1036269 & 2.139896 & 269700\\\\\n",
       "\\end{tabular}\n"
      ],
      "text/markdown": [
       "\n",
       "A tibble: 6 × 13\n",
       "\n",
       "| longitude &lt;dbl&gt; | latitude &lt;dbl&gt; | housing_median_age &lt;dbl&gt; | total_rooms &lt;dbl&gt; | total_bedrooms &lt;dbl&gt; | population &lt;dbl&gt; | households &lt;dbl&gt; | median_income &lt;dbl&gt; | ocean_proximity &lt;chr&gt; | rooms_per_household &lt;dbl&gt; | bedrooms_per_household &lt;dbl&gt; | population_per_household &lt;dbl&gt; | median_house_value &lt;dbl&gt; |\n",
       "|---|---|---|---|---|---|---|---|---|---|---|---|---|\n",
       "| -122.23 | 37.88 | 41 |  880 |  129 |  322 |  126 | 8.3252 | NEAR BAY | 6.984127 | 1.0238095 | 2.555556 | 452600 |\n",
       "| -122.22 | 37.86 | 21 | 7099 | 1106 | 2401 | 1138 | 8.3014 | NEAR BAY | 6.238137 | 0.9718805 | 2.109842 | 358500 |\n",
       "| -122.24 | 37.85 | 52 | 1467 |  190 |  496 |  177 | 7.2574 | NEAR BAY | 8.288136 | 1.0734463 | 2.802260 | 352100 |\n",
       "| -122.25 | 37.85 | 52 | 1274 |  235 |  558 |  219 | 5.6431 | NEAR BAY | 5.817352 | 1.0730594 | 2.547945 | 341300 |\n",
       "| -122.25 | 37.85 | 52 | 1627 |  280 |  565 |  259 | 3.8462 | NEAR BAY | 6.281853 | 1.0810811 | 2.181467 | 342200 |\n",
       "| -122.25 | 37.85 | 52 |  919 |  213 |  413 |  193 | 4.0368 | NEAR BAY | 4.761658 | 1.1036269 | 2.139896 | 269700 |\n",
       "\n"
      ],
      "text/plain": [
       "  longitude latitude housing_median_age total_rooms total_bedrooms population\n",
       "1 -122.23   37.88    41                  880         129            322      \n",
       "2 -122.22   37.86    21                 7099        1106           2401      \n",
       "3 -122.24   37.85    52                 1467         190            496      \n",
       "4 -122.25   37.85    52                 1274         235            558      \n",
       "5 -122.25   37.85    52                 1627         280            565      \n",
       "6 -122.25   37.85    52                  919         213            413      \n",
       "  households median_income ocean_proximity rooms_per_household\n",
       "1  126       8.3252        NEAR BAY        6.984127           \n",
       "2 1138       8.3014        NEAR BAY        6.238137           \n",
       "3  177       7.2574        NEAR BAY        8.288136           \n",
       "4  219       5.6431        NEAR BAY        5.817352           \n",
       "5  259       3.8462        NEAR BAY        6.281853           \n",
       "6  193       4.0368        NEAR BAY        4.761658           \n",
       "  bedrooms_per_household population_per_household median_house_value\n",
       "1 1.0238095              2.555556                 452600            \n",
       "2 0.9718805              2.109842                 358500            \n",
       "3 1.0734463              2.802260                 352100            \n",
       "4 1.0730594              2.547945                 341300            \n",
       "5 1.0810811              2.181467                 342200            \n",
       "6 1.1036269              2.139896                 269700            "
      ]
     },
     "metadata": {},
     "output_type": "display_data"
    }
   ],
   "source": [
    "# preprocessing from the proposal\n",
    "\n",
    "data <- data %>% mutate(rooms_per_household = total_rooms / households,\n",
    "                       bedrooms_per_household = total_bedrooms / households,\n",
    "                       population_per_household = population / households) %>%\n",
    "                select(-...1)\n",
    "data <- data %>% relocate(median_house_value, .after = last_col())\n",
    "\n",
    "head(data)"
   ]
  },
  {
   "cell_type": "markdown",
   "metadata": {},
   "source": [
    "## Fitting a full linear model and dropping highly correlated columns"
   ]
  },
  {
   "cell_type": "code",
   "execution_count": 5,
   "metadata": {
    "vscode": {
     "languageId": "r"
    }
   },
   "outputs": [
    {
     "data": {
      "text/html": [
       "<table class=\"dataframe\">\n",
       "<caption>A tibble: 16 × 5</caption>\n",
       "<thead>\n",
       "\t<tr><th scope=col>term</th><th scope=col>estimate</th><th scope=col>std.error</th><th scope=col>statistic</th><th scope=col>p.value</th></tr>\n",
       "\t<tr><th scope=col>&lt;chr&gt;</th><th scope=col>&lt;dbl&gt;</th><th scope=col>&lt;dbl&gt;</th><th scope=col>&lt;dbl&gt;</th><th scope=col>&lt;dbl&gt;</th></tr>\n",
       "</thead>\n",
       "<tbody>\n",
       "\t<tr><td>(Intercept)              </td><td>-2.355682e+06</td><td>8.861237e+04</td><td>-26.584116</td><td>4.159506e-153</td></tr>\n",
       "\t<tr><td>longitude                </td><td>-2.766339e+04</td><td>1.026361e+03</td><td>-26.952876</td><td>2.962510e-157</td></tr>\n",
       "\t<tr><td>latitude                 </td><td>-2.635291e+04</td><td>1.014102e+03</td><td>-25.986448</td><td>1.690167e-146</td></tr>\n",
       "\t<tr><td>housing_median_age       </td><td> 1.073456e+03</td><td>4.379668e+01</td><td> 24.509976</td><td>8.946624e-131</td></tr>\n",
       "\t<tr><td>total_rooms              </td><td>-3.589039e+00</td><td>9.357749e-01</td><td> -3.835366</td><td> 1.257542e-04</td></tr>\n",
       "\t<tr><td>total_bedrooms           </td><td> 5.946919e+01</td><td>7.890935e+00</td><td>  7.536394</td><td> 5.032696e-14</td></tr>\n",
       "\t<tr><td>population               </td><td>-3.887653e+01</td><td>1.107548e+00</td><td>-35.101428</td><td>3.817785e-262</td></tr>\n",
       "\t<tr><td>households               </td><td> 8.275246e+01</td><td>8.310903e+00</td><td>  9.957096</td><td> 2.653919e-23</td></tr>\n",
       "\t<tr><td>median_income            </td><td> 4.033897e+04</td><td>4.128793e+02</td><td> 97.701587</td><td> 0.000000e+00</td></tr>\n",
       "\t<tr><td>ocean_proximityINLAND    </td><td>-3.739914e+04</td><td>1.752564e+03</td><td>-21.339669</td><td>6.003425e-100</td></tr>\n",
       "\t<tr><td>ocean_proximityISLAND    </td><td> 1.482278e+05</td><td>3.066557e+04</td><td>  4.833690</td><td> 1.349997e-06</td></tr>\n",
       "\t<tr><td>ocean_proximityNEAR BAY  </td><td>-4.045563e+03</td><td>1.908314e+03</td><td> -2.119967</td><td> 3.402086e-02</td></tr>\n",
       "\t<tr><td>ocean_proximityNEAR OCEAN</td><td> 3.976530e+03</td><td>1.566473e+03</td><td>  2.538525</td><td> 1.113945e-02</td></tr>\n",
       "\t<tr><td>rooms_per_household      </td><td>-3.326757e+03</td><td>6.781886e+02</td><td> -4.905356</td><td> 9.397536e-07</td></tr>\n",
       "\t<tr><td>bedrooms_per_household   </td><td> 2.567312e+04</td><td>3.233867e+03</td><td>  7.938830</td><td> 2.145757e-15</td></tr>\n",
       "\t<tr><td>population_per_household </td><td> 6.450441e+01</td><td>4.736633e+01</td><td>  1.361820</td><td> 1.732698e-01</td></tr>\n",
       "</tbody>\n",
       "</table>\n"
      ],
      "text/latex": [
       "A tibble: 16 × 5\n",
       "\\begin{tabular}{lllll}\n",
       " term & estimate & std.error & statistic & p.value\\\\\n",
       " <chr> & <dbl> & <dbl> & <dbl> & <dbl>\\\\\n",
       "\\hline\n",
       "\t (Intercept)               & -2.355682e+06 & 8.861237e+04 & -26.584116 & 4.159506e-153\\\\\n",
       "\t longitude                 & -2.766339e+04 & 1.026361e+03 & -26.952876 & 2.962510e-157\\\\\n",
       "\t latitude                  & -2.635291e+04 & 1.014102e+03 & -25.986448 & 1.690167e-146\\\\\n",
       "\t housing\\_median\\_age        &  1.073456e+03 & 4.379668e+01 &  24.509976 & 8.946624e-131\\\\\n",
       "\t total\\_rooms               & -3.589039e+00 & 9.357749e-01 &  -3.835366 &  1.257542e-04\\\\\n",
       "\t total\\_bedrooms            &  5.946919e+01 & 7.890935e+00 &   7.536394 &  5.032696e-14\\\\\n",
       "\t population                & -3.887653e+01 & 1.107548e+00 & -35.101428 & 3.817785e-262\\\\\n",
       "\t households                &  8.275246e+01 & 8.310903e+00 &   9.957096 &  2.653919e-23\\\\\n",
       "\t median\\_income             &  4.033897e+04 & 4.128793e+02 &  97.701587 &  0.000000e+00\\\\\n",
       "\t ocean\\_proximityINLAND     & -3.739914e+04 & 1.752564e+03 & -21.339669 & 6.003425e-100\\\\\n",
       "\t ocean\\_proximityISLAND     &  1.482278e+05 & 3.066557e+04 &   4.833690 &  1.349997e-06\\\\\n",
       "\t ocean\\_proximityNEAR BAY   & -4.045563e+03 & 1.908314e+03 &  -2.119967 &  3.402086e-02\\\\\n",
       "\t ocean\\_proximityNEAR OCEAN &  3.976530e+03 & 1.566473e+03 &   2.538525 &  1.113945e-02\\\\\n",
       "\t rooms\\_per\\_household       & -3.326757e+03 & 6.781886e+02 &  -4.905356 &  9.397536e-07\\\\\n",
       "\t bedrooms\\_per\\_household    &  2.567312e+04 & 3.233867e+03 &   7.938830 &  2.145757e-15\\\\\n",
       "\t population\\_per\\_household  &  6.450441e+01 & 4.736633e+01 &   1.361820 &  1.732698e-01\\\\\n",
       "\\end{tabular}\n"
      ],
      "text/markdown": [
       "\n",
       "A tibble: 16 × 5\n",
       "\n",
       "| term &lt;chr&gt; | estimate &lt;dbl&gt; | std.error &lt;dbl&gt; | statistic &lt;dbl&gt; | p.value &lt;dbl&gt; |\n",
       "|---|---|---|---|---|\n",
       "| (Intercept)               | -2.355682e+06 | 8.861237e+04 | -26.584116 | 4.159506e-153 |\n",
       "| longitude                 | -2.766339e+04 | 1.026361e+03 | -26.952876 | 2.962510e-157 |\n",
       "| latitude                  | -2.635291e+04 | 1.014102e+03 | -25.986448 | 1.690167e-146 |\n",
       "| housing_median_age        |  1.073456e+03 | 4.379668e+01 |  24.509976 | 8.946624e-131 |\n",
       "| total_rooms               | -3.589039e+00 | 9.357749e-01 |  -3.835366 |  1.257542e-04 |\n",
       "| total_bedrooms            |  5.946919e+01 | 7.890935e+00 |   7.536394 |  5.032696e-14 |\n",
       "| population                | -3.887653e+01 | 1.107548e+00 | -35.101428 | 3.817785e-262 |\n",
       "| households                |  8.275246e+01 | 8.310903e+00 |   9.957096 |  2.653919e-23 |\n",
       "| median_income             |  4.033897e+04 | 4.128793e+02 |  97.701587 |  0.000000e+00 |\n",
       "| ocean_proximityINLAND     | -3.739914e+04 | 1.752564e+03 | -21.339669 | 6.003425e-100 |\n",
       "| ocean_proximityISLAND     |  1.482278e+05 | 3.066557e+04 |   4.833690 |  1.349997e-06 |\n",
       "| ocean_proximityNEAR BAY   | -4.045563e+03 | 1.908314e+03 |  -2.119967 |  3.402086e-02 |\n",
       "| ocean_proximityNEAR OCEAN |  3.976530e+03 | 1.566473e+03 |   2.538525 |  1.113945e-02 |\n",
       "| rooms_per_household       | -3.326757e+03 | 6.781886e+02 |  -4.905356 |  9.397536e-07 |\n",
       "| bedrooms_per_household    |  2.567312e+04 | 3.233867e+03 |   7.938830 |  2.145757e-15 |\n",
       "| population_per_household  |  6.450441e+01 | 4.736633e+01 |   1.361820 |  1.732698e-01 |\n",
       "\n"
      ],
      "text/plain": [
       "   term                      estimate      std.error    statistic \n",
       "1  (Intercept)               -2.355682e+06 8.861237e+04 -26.584116\n",
       "2  longitude                 -2.766339e+04 1.026361e+03 -26.952876\n",
       "3  latitude                  -2.635291e+04 1.014102e+03 -25.986448\n",
       "4  housing_median_age         1.073456e+03 4.379668e+01  24.509976\n",
       "5  total_rooms               -3.589039e+00 9.357749e-01  -3.835366\n",
       "6  total_bedrooms             5.946919e+01 7.890935e+00   7.536394\n",
       "7  population                -3.887653e+01 1.107548e+00 -35.101428\n",
       "8  households                 8.275246e+01 8.310903e+00   9.957096\n",
       "9  median_income              4.033897e+04 4.128793e+02  97.701587\n",
       "10 ocean_proximityINLAND     -3.739914e+04 1.752564e+03 -21.339669\n",
       "11 ocean_proximityISLAND      1.482278e+05 3.066557e+04   4.833690\n",
       "12 ocean_proximityNEAR BAY   -4.045563e+03 1.908314e+03  -2.119967\n",
       "13 ocean_proximityNEAR OCEAN  3.976530e+03 1.566473e+03   2.538525\n",
       "14 rooms_per_household       -3.326757e+03 6.781886e+02  -4.905356\n",
       "15 bedrooms_per_household     2.567312e+04 3.233867e+03   7.938830\n",
       "16 population_per_household   6.450441e+01 4.736633e+01   1.361820\n",
       "   p.value      \n",
       "1  4.159506e-153\n",
       "2  2.962510e-157\n",
       "3  1.690167e-146\n",
       "4  8.946624e-131\n",
       "5   1.257542e-04\n",
       "6   5.032696e-14\n",
       "7  3.817785e-262\n",
       "8   2.653919e-23\n",
       "9   0.000000e+00\n",
       "10 6.003425e-100\n",
       "11  1.349997e-06\n",
       "12  3.402086e-02\n",
       "13  1.113945e-02\n",
       "14  9.397536e-07\n",
       "15  2.145757e-15\n",
       "16  1.732698e-01"
      ]
     },
     "metadata": {},
     "output_type": "display_data"
    }
   ],
   "source": [
    "full_model <- lm(median_house_value~., data = data)\n",
    "tidy(full_model)"
   ]
  },
  {
   "cell_type": "markdown",
   "metadata": {},
   "source": [
    "We then check for multicolinearity and drop columns that are highly correlated."
   ]
  },
  {
   "cell_type": "code",
   "execution_count": 6,
   "metadata": {
    "vscode": {
     "languageId": "r"
    }
   },
   "outputs": [
    {
     "data": {
      "text/html": [
       "<table class=\"dataframe\">\n",
       "<caption>A matrix: 12 × 3 of type dbl</caption>\n",
       "<thead>\n",
       "\t<tr><th></th><th scope=col>GVIF</th><th scope=col>Df</th><th scope=col>GVIF^(1/(2*Df))</th></tr>\n",
       "</thead>\n",
       "<tbody>\n",
       "\t<tr><th scope=row>longitude</th><td>18.427132</td><td>1</td><td>4.292684</td></tr>\n",
       "\t<tr><th scope=row>latitude</th><td>20.452759</td><td>1</td><td>4.522473</td></tr>\n",
       "\t<tr><th scope=row>housing_median_age</th><td> 1.325266</td><td>1</td><td>1.151202</td></tr>\n",
       "\t<tr><th scope=row>total_rooms</th><td>18.222064</td><td>1</td><td>4.268731</td></tr>\n",
       "\t<tr><th scope=row>total_bedrooms</th><td>48.179240</td><td>1</td><td>6.941127</td></tr>\n",
       "\t<tr><th scope=row>population</th><td> 6.864198</td><td>1</td><td>2.619961</td></tr>\n",
       "\t<tr><th scope=row>households</th><td>43.989398</td><td>1</td><td>6.632450</td></tr>\n",
       "\t<tr><th scope=row>median_income</th><td> 2.679626</td><td>1</td><td>1.636956</td></tr>\n",
       "\t<tr><th scope=row>ocean_proximity</th><td> 4.173184</td><td>4</td><td>1.195524</td></tr>\n",
       "\t<tr><th scope=row>rooms_per_household</th><td>12.356066</td><td>1</td><td>3.515120</td></tr>\n",
       "\t<tr><th scope=row>bedrooms_per_household</th><td>10.329821</td><td>1</td><td>3.214004</td></tr>\n",
       "\t<tr><th scope=row>population_per_household</th><td> 1.065225</td><td>1</td><td>1.032097</td></tr>\n",
       "</tbody>\n",
       "</table>\n"
      ],
      "text/latex": [
       "A matrix: 12 × 3 of type dbl\n",
       "\\begin{tabular}{r|lll}\n",
       "  & GVIF & Df & GVIF\\textasciicircum{}(1/(2*Df))\\\\\n",
       "\\hline\n",
       "\tlongitude & 18.427132 & 1 & 4.292684\\\\\n",
       "\tlatitude & 20.452759 & 1 & 4.522473\\\\\n",
       "\thousing\\_median\\_age &  1.325266 & 1 & 1.151202\\\\\n",
       "\ttotal\\_rooms & 18.222064 & 1 & 4.268731\\\\\n",
       "\ttotal\\_bedrooms & 48.179240 & 1 & 6.941127\\\\\n",
       "\tpopulation &  6.864198 & 1 & 2.619961\\\\\n",
       "\thouseholds & 43.989398 & 1 & 6.632450\\\\\n",
       "\tmedian\\_income &  2.679626 & 1 & 1.636956\\\\\n",
       "\tocean\\_proximity &  4.173184 & 4 & 1.195524\\\\\n",
       "\trooms\\_per\\_household & 12.356066 & 1 & 3.515120\\\\\n",
       "\tbedrooms\\_per\\_household & 10.329821 & 1 & 3.214004\\\\\n",
       "\tpopulation\\_per\\_household &  1.065225 & 1 & 1.032097\\\\\n",
       "\\end{tabular}\n"
      ],
      "text/markdown": [
       "\n",
       "A matrix: 12 × 3 of type dbl\n",
       "\n",
       "| <!--/--> | GVIF | Df | GVIF^(1/(2*Df)) |\n",
       "|---|---|---|---|\n",
       "| longitude | 18.427132 | 1 | 4.292684 |\n",
       "| latitude | 20.452759 | 1 | 4.522473 |\n",
       "| housing_median_age |  1.325266 | 1 | 1.151202 |\n",
       "| total_rooms | 18.222064 | 1 | 4.268731 |\n",
       "| total_bedrooms | 48.179240 | 1 | 6.941127 |\n",
       "| population |  6.864198 | 1 | 2.619961 |\n",
       "| households | 43.989398 | 1 | 6.632450 |\n",
       "| median_income |  2.679626 | 1 | 1.636956 |\n",
       "| ocean_proximity |  4.173184 | 4 | 1.195524 |\n",
       "| rooms_per_household | 12.356066 | 1 | 3.515120 |\n",
       "| bedrooms_per_household | 10.329821 | 1 | 3.214004 |\n",
       "| population_per_household |  1.065225 | 1 | 1.032097 |\n",
       "\n"
      ],
      "text/plain": [
       "                         GVIF      Df GVIF^(1/(2*Df))\n",
       "longitude                18.427132 1  4.292684       \n",
       "latitude                 20.452759 1  4.522473       \n",
       "housing_median_age        1.325266 1  1.151202       \n",
       "total_rooms              18.222064 1  4.268731       \n",
       "total_bedrooms           48.179240 1  6.941127       \n",
       "population                6.864198 1  2.619961       \n",
       "households               43.989398 1  6.632450       \n",
       "median_income             2.679626 1  1.636956       \n",
       "ocean_proximity           4.173184 4  1.195524       \n",
       "rooms_per_household      12.356066 1  3.515120       \n",
       "bedrooms_per_household   10.329821 1  3.214004       \n",
       "population_per_household  1.065225 1  1.032097       "
      ]
     },
     "metadata": {},
     "output_type": "display_data"
    }
   ],
   "source": [
    "vif(full_model)"
   ]
  },
  {
   "cell_type": "markdown",
   "metadata": {},
   "source": [
    "As seen in the graph, `longitude`, `latitude`, `total_rooms`, `total_bedrooms`, and `households` has the highest GVIF value. We will drop these columns."
   ]
  },
  {
   "cell_type": "code",
   "execution_count": 7,
   "metadata": {
    "vscode": {
     "languageId": "r"
    }
   },
   "outputs": [],
   "source": [
    "data  <- data %>% select(-longitude, -latitude, -total_rooms, -total_bedrooms, -households)"
   ]
  },
  {
   "cell_type": "code",
   "execution_count": 8,
   "metadata": {
    "vscode": {
     "languageId": "r"
    }
   },
   "outputs": [
    {
     "data": {
      "text/html": [
       "<table class=\"dataframe\">\n",
       "<caption>A matrix: 7 × 3 of type dbl</caption>\n",
       "<thead>\n",
       "\t<tr><th></th><th scope=col>GVIF</th><th scope=col>Df</th><th scope=col>GVIF^(1/(2*Df))</th></tr>\n",
       "</thead>\n",
       "<tbody>\n",
       "\t<tr><th scope=row>housing_median_age</th><td>1.284132</td><td>1</td><td>1.133196</td></tr>\n",
       "\t<tr><th scope=row>population</th><td>1.131283</td><td>1</td><td>1.063618</td></tr>\n",
       "\t<tr><th scope=row>median_income</th><td>2.531770</td><td>1</td><td>1.591154</td></tr>\n",
       "\t<tr><th scope=row>ocean_proximity</th><td>1.399761</td><td>4</td><td>1.042934</td></tr>\n",
       "\t<tr><th scope=row>rooms_per_household</th><td>8.483032</td><td>1</td><td>2.912564</td></tr>\n",
       "\t<tr><th scope=row>bedrooms_per_household</th><td>7.223765</td><td>1</td><td>2.687706</td></tr>\n",
       "\t<tr><th scope=row>population_per_household</th><td>1.008783</td><td>1</td><td>1.004382</td></tr>\n",
       "</tbody>\n",
       "</table>\n"
      ],
      "text/latex": [
       "A matrix: 7 × 3 of type dbl\n",
       "\\begin{tabular}{r|lll}\n",
       "  & GVIF & Df & GVIF\\textasciicircum{}(1/(2*Df))\\\\\n",
       "\\hline\n",
       "\thousing\\_median\\_age & 1.284132 & 1 & 1.133196\\\\\n",
       "\tpopulation & 1.131283 & 1 & 1.063618\\\\\n",
       "\tmedian\\_income & 2.531770 & 1 & 1.591154\\\\\n",
       "\tocean\\_proximity & 1.399761 & 4 & 1.042934\\\\\n",
       "\trooms\\_per\\_household & 8.483032 & 1 & 2.912564\\\\\n",
       "\tbedrooms\\_per\\_household & 7.223765 & 1 & 2.687706\\\\\n",
       "\tpopulation\\_per\\_household & 1.008783 & 1 & 1.004382\\\\\n",
       "\\end{tabular}\n"
      ],
      "text/markdown": [
       "\n",
       "A matrix: 7 × 3 of type dbl\n",
       "\n",
       "| <!--/--> | GVIF | Df | GVIF^(1/(2*Df)) |\n",
       "|---|---|---|---|\n",
       "| housing_median_age | 1.284132 | 1 | 1.133196 |\n",
       "| population | 1.131283 | 1 | 1.063618 |\n",
       "| median_income | 2.531770 | 1 | 1.591154 |\n",
       "| ocean_proximity | 1.399761 | 4 | 1.042934 |\n",
       "| rooms_per_household | 8.483032 | 1 | 2.912564 |\n",
       "| bedrooms_per_household | 7.223765 | 1 | 2.687706 |\n",
       "| population_per_household | 1.008783 | 1 | 1.004382 |\n",
       "\n"
      ],
      "text/plain": [
       "                         GVIF     Df GVIF^(1/(2*Df))\n",
       "housing_median_age       1.284132 1  1.133196       \n",
       "population               1.131283 1  1.063618       \n",
       "median_income            2.531770 1  1.591154       \n",
       "ocean_proximity          1.399761 4  1.042934       \n",
       "rooms_per_household      8.483032 1  2.912564       \n",
       "bedrooms_per_household   7.223765 1  2.687706       \n",
       "population_per_household 1.008783 1  1.004382       "
      ]
     },
     "metadata": {},
     "output_type": "display_data"
    }
   ],
   "source": [
    "full_2  <- lm(median_house_value~., data = data)\n",
    "vif(full_2)"
   ]
  },
  {
   "cell_type": "markdown",
   "metadata": {},
   "source": [
    "With low multicolinearity (GVIF < 10) in our columns, we are now ready to train inference models on our data."
   ]
  },
  {
   "cell_type": "markdown",
   "metadata": {},
   "source": [
    "## Creating generative models"
   ]
  },
  {
   "cell_type": "markdown",
   "metadata": {},
   "source": [
    "To avoid bias, we will first split our data into two evenly divided portions -- one for variable selection, and the other for fitting the inference model. We will name the two portions `data_selection` and `data_inference`."
   ]
  },
  {
   "cell_type": "code",
   "execution_count": 17,
   "metadata": {
    "vscode": {
     "languageId": "r"
    }
   },
   "outputs": [],
   "source": [
    "set.seed(1234)\n",
    "indices <- sample.int(nrow(data), nrow(data) / 2)\n",
    "data_selection <- data[indices, ]\n",
    "data_inference <- data[-indices, ]"
   ]
  },
  {
   "cell_type": "markdown",
   "metadata": {},
   "source": [
    "### Using stepwise algorithms to select a generative model"
   ]
  },
  {
   "cell_type": "markdown",
   "metadata": {},
   "source": [
    "Rather than arbitrarily using the full model, we would like to select particular variables to form a better model. In this section, automated procedures will be conducted to select the best model. The two most common methods will be used, which are Forward and Backward algorithms.\n",
    "\n",
    "First, we will use Forward selection. We will use the dataset `data_selection` to perform the selection algorithm. A summary of the Forward selection result is generated as follows."
   ]
  },
  {
   "cell_type": "code",
   "execution_count": 18,
   "metadata": {
    "vscode": {
     "languageId": "r"
    }
   },
   "outputs": [
    {
     "data": {
      "text/html": [
       "<table class=\"dataframe\">\n",
       "<caption>A matrix: 10 × 11 of type lgl</caption>\n",
       "<thead>\n",
       "\t<tr><th></th><th scope=col>(Intercept)</th><th scope=col>housing_median_age</th><th scope=col>population</th><th scope=col>median_income</th><th scope=col>ocean_proximityINLAND</th><th scope=col>ocean_proximityISLAND</th><th scope=col>ocean_proximityNEAR BAY</th><th scope=col>ocean_proximityNEAR OCEAN</th><th scope=col>rooms_per_household</th><th scope=col>bedrooms_per_household</th><th scope=col>population_per_household</th></tr>\n",
       "</thead>\n",
       "<tbody>\n",
       "\t<tr><th scope=row>1</th><td>TRUE</td><td>FALSE</td><td>FALSE</td><td>TRUE</td><td>FALSE</td><td>FALSE</td><td>FALSE</td><td>FALSE</td><td>FALSE</td><td>FALSE</td><td>FALSE</td></tr>\n",
       "\t<tr><th scope=row>2</th><td>TRUE</td><td>FALSE</td><td>FALSE</td><td>TRUE</td><td> TRUE</td><td>FALSE</td><td>FALSE</td><td>FALSE</td><td>FALSE</td><td>FALSE</td><td>FALSE</td></tr>\n",
       "\t<tr><th scope=row>3</th><td>TRUE</td><td> TRUE</td><td>FALSE</td><td>TRUE</td><td> TRUE</td><td>FALSE</td><td>FALSE</td><td>FALSE</td><td>FALSE</td><td>FALSE</td><td>FALSE</td></tr>\n",
       "\t<tr><th scope=row>4</th><td>TRUE</td><td> TRUE</td><td>FALSE</td><td>TRUE</td><td> TRUE</td><td>FALSE</td><td>FALSE</td><td> TRUE</td><td>FALSE</td><td>FALSE</td><td>FALSE</td></tr>\n",
       "\t<tr><th scope=row>5</th><td>TRUE</td><td> TRUE</td><td>FALSE</td><td>TRUE</td><td> TRUE</td><td>FALSE</td><td> TRUE</td><td> TRUE</td><td>FALSE</td><td>FALSE</td><td>FALSE</td></tr>\n",
       "\t<tr><th scope=row>6</th><td>TRUE</td><td> TRUE</td><td>FALSE</td><td>TRUE</td><td> TRUE</td><td> TRUE</td><td> TRUE</td><td> TRUE</td><td>FALSE</td><td>FALSE</td><td>FALSE</td></tr>\n",
       "\t<tr><th scope=row>7</th><td>TRUE</td><td> TRUE</td><td>FALSE</td><td>TRUE</td><td> TRUE</td><td> TRUE</td><td> TRUE</td><td> TRUE</td><td>FALSE</td><td> TRUE</td><td>FALSE</td></tr>\n",
       "\t<tr><th scope=row>8</th><td>TRUE</td><td> TRUE</td><td>FALSE</td><td>TRUE</td><td> TRUE</td><td> TRUE</td><td> TRUE</td><td> TRUE</td><td> TRUE</td><td> TRUE</td><td>FALSE</td></tr>\n",
       "\t<tr><th scope=row>9</th><td>TRUE</td><td> TRUE</td><td>FALSE</td><td>TRUE</td><td> TRUE</td><td> TRUE</td><td> TRUE</td><td> TRUE</td><td> TRUE</td><td> TRUE</td><td> TRUE</td></tr>\n",
       "\t<tr><th scope=row>10</th><td>TRUE</td><td> TRUE</td><td> TRUE</td><td>TRUE</td><td> TRUE</td><td> TRUE</td><td> TRUE</td><td> TRUE</td><td> TRUE</td><td> TRUE</td><td> TRUE</td></tr>\n",
       "</tbody>\n",
       "</table>\n"
      ],
      "text/latex": [
       "A matrix: 10 × 11 of type lgl\n",
       "\\begin{tabular}{r|lllllllllll}\n",
       "  & (Intercept) & housing\\_median\\_age & population & median\\_income & ocean\\_proximityINLAND & ocean\\_proximityISLAND & ocean\\_proximityNEAR BAY & ocean\\_proximityNEAR OCEAN & rooms\\_per\\_household & bedrooms\\_per\\_household & population\\_per\\_household\\\\\n",
       "\\hline\n",
       "\t1 & TRUE & FALSE & FALSE & TRUE & FALSE & FALSE & FALSE & FALSE & FALSE & FALSE & FALSE\\\\\n",
       "\t2 & TRUE & FALSE & FALSE & TRUE &  TRUE & FALSE & FALSE & FALSE & FALSE & FALSE & FALSE\\\\\n",
       "\t3 & TRUE &  TRUE & FALSE & TRUE &  TRUE & FALSE & FALSE & FALSE & FALSE & FALSE & FALSE\\\\\n",
       "\t4 & TRUE &  TRUE & FALSE & TRUE &  TRUE & FALSE & FALSE &  TRUE & FALSE & FALSE & FALSE\\\\\n",
       "\t5 & TRUE &  TRUE & FALSE & TRUE &  TRUE & FALSE &  TRUE &  TRUE & FALSE & FALSE & FALSE\\\\\n",
       "\t6 & TRUE &  TRUE & FALSE & TRUE &  TRUE &  TRUE &  TRUE &  TRUE & FALSE & FALSE & FALSE\\\\\n",
       "\t7 & TRUE &  TRUE & FALSE & TRUE &  TRUE &  TRUE &  TRUE &  TRUE & FALSE &  TRUE & FALSE\\\\\n",
       "\t8 & TRUE &  TRUE & FALSE & TRUE &  TRUE &  TRUE &  TRUE &  TRUE &  TRUE &  TRUE & FALSE\\\\\n",
       "\t9 & TRUE &  TRUE & FALSE & TRUE &  TRUE &  TRUE &  TRUE &  TRUE &  TRUE &  TRUE &  TRUE\\\\\n",
       "\t10 & TRUE &  TRUE &  TRUE & TRUE &  TRUE &  TRUE &  TRUE &  TRUE &  TRUE &  TRUE &  TRUE\\\\\n",
       "\\end{tabular}\n"
      ],
      "text/markdown": [
       "\n",
       "A matrix: 10 × 11 of type lgl\n",
       "\n",
       "| <!--/--> | (Intercept) | housing_median_age | population | median_income | ocean_proximityINLAND | ocean_proximityISLAND | ocean_proximityNEAR BAY | ocean_proximityNEAR OCEAN | rooms_per_household | bedrooms_per_household | population_per_household |\n",
       "|---|---|---|---|---|---|---|---|---|---|---|---|\n",
       "| 1 | TRUE | FALSE | FALSE | TRUE | FALSE | FALSE | FALSE | FALSE | FALSE | FALSE | FALSE |\n",
       "| 2 | TRUE | FALSE | FALSE | TRUE |  TRUE | FALSE | FALSE | FALSE | FALSE | FALSE | FALSE |\n",
       "| 3 | TRUE |  TRUE | FALSE | TRUE |  TRUE | FALSE | FALSE | FALSE | FALSE | FALSE | FALSE |\n",
       "| 4 | TRUE |  TRUE | FALSE | TRUE |  TRUE | FALSE | FALSE |  TRUE | FALSE | FALSE | FALSE |\n",
       "| 5 | TRUE |  TRUE | FALSE | TRUE |  TRUE | FALSE |  TRUE |  TRUE | FALSE | FALSE | FALSE |\n",
       "| 6 | TRUE |  TRUE | FALSE | TRUE |  TRUE |  TRUE |  TRUE |  TRUE | FALSE | FALSE | FALSE |\n",
       "| 7 | TRUE |  TRUE | FALSE | TRUE |  TRUE |  TRUE |  TRUE |  TRUE | FALSE |  TRUE | FALSE |\n",
       "| 8 | TRUE |  TRUE | FALSE | TRUE |  TRUE |  TRUE |  TRUE |  TRUE |  TRUE |  TRUE | FALSE |\n",
       "| 9 | TRUE |  TRUE | FALSE | TRUE |  TRUE |  TRUE |  TRUE |  TRUE |  TRUE |  TRUE |  TRUE |\n",
       "| 10 | TRUE |  TRUE |  TRUE | TRUE |  TRUE |  TRUE |  TRUE |  TRUE |  TRUE |  TRUE |  TRUE |\n",
       "\n"
      ],
      "text/plain": [
       "   (Intercept) housing_median_age population median_income\n",
       "1  TRUE        FALSE              FALSE      TRUE         \n",
       "2  TRUE        FALSE              FALSE      TRUE         \n",
       "3  TRUE         TRUE              FALSE      TRUE         \n",
       "4  TRUE         TRUE              FALSE      TRUE         \n",
       "5  TRUE         TRUE              FALSE      TRUE         \n",
       "6  TRUE         TRUE              FALSE      TRUE         \n",
       "7  TRUE         TRUE              FALSE      TRUE         \n",
       "8  TRUE         TRUE              FALSE      TRUE         \n",
       "9  TRUE         TRUE              FALSE      TRUE         \n",
       "10 TRUE         TRUE               TRUE      TRUE         \n",
       "   ocean_proximityINLAND ocean_proximityISLAND ocean_proximityNEAR BAY\n",
       "1  FALSE                 FALSE                 FALSE                  \n",
       "2   TRUE                 FALSE                 FALSE                  \n",
       "3   TRUE                 FALSE                 FALSE                  \n",
       "4   TRUE                 FALSE                 FALSE                  \n",
       "5   TRUE                 FALSE                  TRUE                  \n",
       "6   TRUE                  TRUE                  TRUE                  \n",
       "7   TRUE                  TRUE                  TRUE                  \n",
       "8   TRUE                  TRUE                  TRUE                  \n",
       "9   TRUE                  TRUE                  TRUE                  \n",
       "10  TRUE                  TRUE                  TRUE                  \n",
       "   ocean_proximityNEAR OCEAN rooms_per_household bedrooms_per_household\n",
       "1  FALSE                     FALSE               FALSE                 \n",
       "2  FALSE                     FALSE               FALSE                 \n",
       "3  FALSE                     FALSE               FALSE                 \n",
       "4   TRUE                     FALSE               FALSE                 \n",
       "5   TRUE                     FALSE               FALSE                 \n",
       "6   TRUE                     FALSE               FALSE                 \n",
       "7   TRUE                     FALSE                TRUE                 \n",
       "8   TRUE                      TRUE                TRUE                 \n",
       "9   TRUE                      TRUE                TRUE                 \n",
       "10  TRUE                      TRUE                TRUE                 \n",
       "   population_per_household\n",
       "1  FALSE                   \n",
       "2  FALSE                   \n",
       "3  FALSE                   \n",
       "4  FALSE                   \n",
       "5  FALSE                   \n",
       "6  FALSE                   \n",
       "7  FALSE                   \n",
       "8  FALSE                   \n",
       "9   TRUE                   \n",
       "10  TRUE                   "
      ]
     },
     "metadata": {},
     "output_type": "display_data"
    }
   ],
   "source": [
    "housing_forward_sel <- regsubsets(\n",
    "    x = median_house_value ~ ., nvmax=10,\n",
    "    data = data_selection, \n",
    "    method = \"forward\")\n",
    "housing_forward_summary <- summary(housing_forward_sel)\n",
    "housing_forward_summary$which"
   ]
  },
  {
   "cell_type": "markdown",
   "metadata": {},
   "source": [
    "To have a more intuitive result, as well as obtain the corresponding statistics of each number of selected variables, a summary table is generated, which is useful to decide the number of variables in the best model. For the generative model, we will refer to adjusted $R^2$. To be specific, the `n_input_variables` with the largest adjusted $R^2$ value will be selected. A plot is also generated for a better view and understanding."
   ]
  },
  {
   "cell_type": "code",
   "execution_count": 19,
   "metadata": {
    "vscode": {
     "languageId": "r"
    }
   },
   "outputs": [
    {
     "data": {
      "text/html": [
       "<table class=\"dataframe\">\n",
       "<caption>A tibble: 10 × 6</caption>\n",
       "<thead>\n",
       "\t<tr><th scope=col>n_input_variables</th><th scope=col>RSQ</th><th scope=col>RSS</th><th scope=col>ADJR2</th><th scope=col>Cp</th><th scope=col>BIC</th></tr>\n",
       "\t<tr><th scope=col>&lt;int&gt;</th><th scope=col>&lt;dbl&gt;</th><th scope=col>&lt;dbl&gt;</th><th scope=col>&lt;dbl&gt;</th><th scope=col>&lt;dbl&gt;</th><th scope=col>&lt;dbl&gt;</th></tr>\n",
       "</thead>\n",
       "<tbody>\n",
       "\t<tr><td> 1</td><td>0.4721471</td><td>7.055552e+13</td><td>0.4720955</td><td>3494.083715</td><td>-6508.924</td></tr>\n",
       "\t<tr><td> 2</td><td>0.5843054</td><td>5.556388e+13</td><td>0.5842240</td><td> 583.813754</td><td>-8939.954</td></tr>\n",
       "\t<tr><td> 3</td><td>0.5949812</td><td>5.413689e+13</td><td>0.5948622</td><td> 308.608080</td><td>-9196.516</td></tr>\n",
       "\t<tr><td> 4</td><td>0.5969492</td><td>5.387384e+13</td><td>0.5967913</td><td> 259.507824</td><td>-9237.045</td></tr>\n",
       "\t<tr><td> 5</td><td>0.5991641</td><td>5.357779e+13</td><td>0.5989678</td><td> 203.996391</td><td>-9284.109</td></tr>\n",
       "\t<tr><td> 6</td><td>0.5997672</td><td>5.349717e+13</td><td>0.5995320</td><td> 190.335920</td><td>-9290.260</td></tr>\n",
       "\t<tr><td> 7</td><td>0.6003454</td><td>5.341988e+13</td><td>0.6000714</td><td> 177.321274</td><td>-9295.799</td></tr>\n",
       "\t<tr><td> 8</td><td>0.6065615</td><td>5.258902e+13</td><td>0.6062531</td><td>  17.918042</td><td>-9446.710</td></tr>\n",
       "\t<tr><td> 9</td><td>0.6069534</td><td>5.253663e+13</td><td>0.6066068</td><td>   9.742126</td><td>-9447.659</td></tr>\n",
       "\t<tr><td>10</td><td>0.6069819</td><td>5.253281e+13</td><td>0.6065968</td><td>  11.000000</td><td>-9439.171</td></tr>\n",
       "</tbody>\n",
       "</table>\n"
      ],
      "text/latex": [
       "A tibble: 10 × 6\n",
       "\\begin{tabular}{llllll}\n",
       " n\\_input\\_variables & RSQ & RSS & ADJR2 & Cp & BIC\\\\\n",
       " <int> & <dbl> & <dbl> & <dbl> & <dbl> & <dbl>\\\\\n",
       "\\hline\n",
       "\t  1 & 0.4721471 & 7.055552e+13 & 0.4720955 & 3494.083715 & -6508.924\\\\\n",
       "\t  2 & 0.5843054 & 5.556388e+13 & 0.5842240 &  583.813754 & -8939.954\\\\\n",
       "\t  3 & 0.5949812 & 5.413689e+13 & 0.5948622 &  308.608080 & -9196.516\\\\\n",
       "\t  4 & 0.5969492 & 5.387384e+13 & 0.5967913 &  259.507824 & -9237.045\\\\\n",
       "\t  5 & 0.5991641 & 5.357779e+13 & 0.5989678 &  203.996391 & -9284.109\\\\\n",
       "\t  6 & 0.5997672 & 5.349717e+13 & 0.5995320 &  190.335920 & -9290.260\\\\\n",
       "\t  7 & 0.6003454 & 5.341988e+13 & 0.6000714 &  177.321274 & -9295.799\\\\\n",
       "\t  8 & 0.6065615 & 5.258902e+13 & 0.6062531 &   17.918042 & -9446.710\\\\\n",
       "\t  9 & 0.6069534 & 5.253663e+13 & 0.6066068 &    9.742126 & -9447.659\\\\\n",
       "\t 10 & 0.6069819 & 5.253281e+13 & 0.6065968 &   11.000000 & -9439.171\\\\\n",
       "\\end{tabular}\n"
      ],
      "text/markdown": [
       "\n",
       "A tibble: 10 × 6\n",
       "\n",
       "| n_input_variables &lt;int&gt; | RSQ &lt;dbl&gt; | RSS &lt;dbl&gt; | ADJR2 &lt;dbl&gt; | Cp &lt;dbl&gt; | BIC &lt;dbl&gt; |\n",
       "|---|---|---|---|---|---|\n",
       "|  1 | 0.4721471 | 7.055552e+13 | 0.4720955 | 3494.083715 | -6508.924 |\n",
       "|  2 | 0.5843054 | 5.556388e+13 | 0.5842240 |  583.813754 | -8939.954 |\n",
       "|  3 | 0.5949812 | 5.413689e+13 | 0.5948622 |  308.608080 | -9196.516 |\n",
       "|  4 | 0.5969492 | 5.387384e+13 | 0.5967913 |  259.507824 | -9237.045 |\n",
       "|  5 | 0.5991641 | 5.357779e+13 | 0.5989678 |  203.996391 | -9284.109 |\n",
       "|  6 | 0.5997672 | 5.349717e+13 | 0.5995320 |  190.335920 | -9290.260 |\n",
       "|  7 | 0.6003454 | 5.341988e+13 | 0.6000714 |  177.321274 | -9295.799 |\n",
       "|  8 | 0.6065615 | 5.258902e+13 | 0.6062531 |   17.918042 | -9446.710 |\n",
       "|  9 | 0.6069534 | 5.253663e+13 | 0.6066068 |    9.742126 | -9447.659 |\n",
       "| 10 | 0.6069819 | 5.253281e+13 | 0.6065968 |   11.000000 | -9439.171 |\n",
       "\n"
      ],
      "text/plain": [
       "   n_input_variables RSQ       RSS          ADJR2     Cp          BIC      \n",
       "1   1                0.4721471 7.055552e+13 0.4720955 3494.083715 -6508.924\n",
       "2   2                0.5843054 5.556388e+13 0.5842240  583.813754 -8939.954\n",
       "3   3                0.5949812 5.413689e+13 0.5948622  308.608080 -9196.516\n",
       "4   4                0.5969492 5.387384e+13 0.5967913  259.507824 -9237.045\n",
       "5   5                0.5991641 5.357779e+13 0.5989678  203.996391 -9284.109\n",
       "6   6                0.5997672 5.349717e+13 0.5995320  190.335920 -9290.260\n",
       "7   7                0.6003454 5.341988e+13 0.6000714  177.321274 -9295.799\n",
       "8   8                0.6065615 5.258902e+13 0.6062531   17.918042 -9446.710\n",
       "9   9                0.6069534 5.253663e+13 0.6066068    9.742126 -9447.659\n",
       "10 10                0.6069819 5.253281e+13 0.6065968   11.000000 -9439.171"
      ]
     },
     "metadata": {},
     "output_type": "display_data"
    }
   ],
   "source": [
    "housing_forward_summary_df <- tibble(\n",
    "    n_input_variables = 1:10,\n",
    "    RSQ = housing_forward_summary$rsq,\n",
    "    RSS = housing_forward_summary$rss,\n",
    "    ADJR2 = housing_forward_summary$adjr2,\n",
    "    Cp = housing_forward_summary$cp,\n",
    "    BIC = housing_forward_summary$bic)\n",
    "housing_forward_summary_df"
   ]
  },
  {
   "cell_type": "code",
   "execution_count": 20,
   "metadata": {
    "vscode": {
     "languageId": "r"
    }
   },
   "outputs": [
    {
     "data": {
      "image/png": "[encoded data removed]",
      "text/plain": [
       "Plot with title \"ADJ.R2 for Forward Selection\""
      ]
     },
     "metadata": {
      "image/png": {
       "height": 420,
       "width": 420
      }
     },
     "output_type": "display_data"
    }
   ],
   "source": [
    "plot(summary(housing_forward_sel)$adjr2,\n",
    "    main = \"ADJ.R2 for Forward Selection\", xlab = \"Number of Variables\", ylab=\"ADJ.R2\",\n",
    "    type = \"b\", pch = 10, col=\"blue\")"
   ]
  },
  {
   "cell_type": "markdown",
   "metadata": {},
   "source": [
    "As the results show, the best model contains 9 variables based on Forward selection. In this model, all of the variable are used. The corresponding adjusted $R^2$ value is 0.6066, which is the largest among all the possible $n$.\n",
    "\n",
    "To ensure the correctness and validation of our selection, the Backward Algorithm will also be performed. We will still use the dataset `data_selection`. The summary of the selection as well as the table with all the possible number of variables and the corresponding statistics will be generated."
   ]
  },
  {
   "cell_type": "code",
   "execution_count": 21,
   "metadata": {
    "vscode": {
     "languageId": "r"
    }
   },
   "outputs": [
    {
     "data": {
      "text/html": [
       "<table class=\"dataframe\">\n",
       "<caption>A matrix: 10 × 11 of type lgl</caption>\n",
       "<thead>\n",
       "\t<tr><th></th><th scope=col>(Intercept)</th><th scope=col>housing_median_age</th><th scope=col>population</th><th scope=col>median_income</th><th scope=col>ocean_proximityINLAND</th><th scope=col>ocean_proximityISLAND</th><th scope=col>ocean_proximityNEAR BAY</th><th scope=col>ocean_proximityNEAR OCEAN</th><th scope=col>rooms_per_household</th><th scope=col>bedrooms_per_household</th><th scope=col>population_per_household</th></tr>\n",
       "</thead>\n",
       "<tbody>\n",
       "\t<tr><th scope=row>1</th><td>TRUE</td><td>FALSE</td><td>FALSE</td><td>TRUE</td><td>FALSE</td><td>FALSE</td><td>FALSE</td><td>FALSE</td><td>FALSE</td><td>FALSE</td><td>FALSE</td></tr>\n",
       "\t<tr><th scope=row>2</th><td>TRUE</td><td>FALSE</td><td>FALSE</td><td>TRUE</td><td> TRUE</td><td>FALSE</td><td>FALSE</td><td>FALSE</td><td>FALSE</td><td>FALSE</td><td>FALSE</td></tr>\n",
       "\t<tr><th scope=row>3</th><td>TRUE</td><td> TRUE</td><td>FALSE</td><td>TRUE</td><td> TRUE</td><td>FALSE</td><td>FALSE</td><td>FALSE</td><td>FALSE</td><td>FALSE</td><td>FALSE</td></tr>\n",
       "\t<tr><th scope=row>4</th><td>TRUE</td><td> TRUE</td><td>FALSE</td><td>TRUE</td><td> TRUE</td><td>FALSE</td><td>FALSE</td><td>FALSE</td><td>FALSE</td><td> TRUE</td><td>FALSE</td></tr>\n",
       "\t<tr><th scope=row>5</th><td>TRUE</td><td> TRUE</td><td>FALSE</td><td>TRUE</td><td> TRUE</td><td>FALSE</td><td>FALSE</td><td>FALSE</td><td> TRUE</td><td> TRUE</td><td>FALSE</td></tr>\n",
       "\t<tr><th scope=row>6</th><td>TRUE</td><td> TRUE</td><td>FALSE</td><td>TRUE</td><td> TRUE</td><td>FALSE</td><td>FALSE</td><td> TRUE</td><td> TRUE</td><td> TRUE</td><td>FALSE</td></tr>\n",
       "\t<tr><th scope=row>7</th><td>TRUE</td><td> TRUE</td><td>FALSE</td><td>TRUE</td><td> TRUE</td><td>FALSE</td><td> TRUE</td><td> TRUE</td><td> TRUE</td><td> TRUE</td><td>FALSE</td></tr>\n",
       "\t<tr><th scope=row>8</th><td>TRUE</td><td> TRUE</td><td>FALSE</td><td>TRUE</td><td> TRUE</td><td> TRUE</td><td> TRUE</td><td> TRUE</td><td> TRUE</td><td> TRUE</td><td>FALSE</td></tr>\n",
       "\t<tr><th scope=row>9</th><td>TRUE</td><td> TRUE</td><td>FALSE</td><td>TRUE</td><td> TRUE</td><td> TRUE</td><td> TRUE</td><td> TRUE</td><td> TRUE</td><td> TRUE</td><td> TRUE</td></tr>\n",
       "\t<tr><th scope=row>10</th><td>TRUE</td><td> TRUE</td><td> TRUE</td><td>TRUE</td><td> TRUE</td><td> TRUE</td><td> TRUE</td><td> TRUE</td><td> TRUE</td><td> TRUE</td><td> TRUE</td></tr>\n",
       "</tbody>\n",
       "</table>\n"
      ],
      "text/latex": [
       "A matrix: 10 × 11 of type lgl\n",
       "\\begin{tabular}{r|lllllllllll}\n",
       "  & (Intercept) & housing\\_median\\_age & population & median\\_income & ocean\\_proximityINLAND & ocean\\_proximityISLAND & ocean\\_proximityNEAR BAY & ocean\\_proximityNEAR OCEAN & rooms\\_per\\_household & bedrooms\\_per\\_household & population\\_per\\_household\\\\\n",
       "\\hline\n",
       "\t1 & TRUE & FALSE & FALSE & TRUE & FALSE & FALSE & FALSE & FALSE & FALSE & FALSE & FALSE\\\\\n",
       "\t2 & TRUE & FALSE & FALSE & TRUE &  TRUE & FALSE & FALSE & FALSE & FALSE & FALSE & FALSE\\\\\n",
       "\t3 & TRUE &  TRUE & FALSE & TRUE &  TRUE & FALSE & FALSE & FALSE & FALSE & FALSE & FALSE\\\\\n",
       "\t4 & TRUE &  TRUE & FALSE & TRUE &  TRUE & FALSE & FALSE & FALSE & FALSE &  TRUE & FALSE\\\\\n",
       "\t5 & TRUE &  TRUE & FALSE & TRUE &  TRUE & FALSE & FALSE & FALSE &  TRUE &  TRUE & FALSE\\\\\n",
       "\t6 & TRUE &  TRUE & FALSE & TRUE &  TRUE & FALSE & FALSE &  TRUE &  TRUE &  TRUE & FALSE\\\\\n",
       "\t7 & TRUE &  TRUE & FALSE & TRUE &  TRUE & FALSE &  TRUE &  TRUE &  TRUE &  TRUE & FALSE\\\\\n",
       "\t8 & TRUE &  TRUE & FALSE & TRUE &  TRUE &  TRUE &  TRUE &  TRUE &  TRUE &  TRUE & FALSE\\\\\n",
       "\t9 & TRUE &  TRUE & FALSE & TRUE &  TRUE &  TRUE &  TRUE &  TRUE &  TRUE &  TRUE &  TRUE\\\\\n",
       "\t10 & TRUE &  TRUE &  TRUE & TRUE &  TRUE &  TRUE &  TRUE &  TRUE &  TRUE &  TRUE &  TRUE\\\\\n",
       "\\end{tabular}\n"
      ],
      "text/markdown": [
       "\n",
       "A matrix: 10 × 11 of type lgl\n",
       "\n",
       "| <!--/--> | (Intercept) | housing_median_age | population | median_income | ocean_proximityINLAND | ocean_proximityISLAND | ocean_proximityNEAR BAY | ocean_proximityNEAR OCEAN | rooms_per_household | bedrooms_per_household | population_per_household |\n",
       "|---|---|---|---|---|---|---|---|---|---|---|---|\n",
       "| 1 | TRUE | FALSE | FALSE | TRUE | FALSE | FALSE | FALSE | FALSE | FALSE | FALSE | FALSE |\n",
       "| 2 | TRUE | FALSE | FALSE | TRUE |  TRUE | FALSE | FALSE | FALSE | FALSE | FALSE | FALSE |\n",
       "| 3 | TRUE |  TRUE | FALSE | TRUE |  TRUE | FALSE | FALSE | FALSE | FALSE | FALSE | FALSE |\n",
       "| 4 | TRUE |  TRUE | FALSE | TRUE |  TRUE | FALSE | FALSE | FALSE | FALSE |  TRUE | FALSE |\n",
       "| 5 | TRUE |  TRUE | FALSE | TRUE |  TRUE | FALSE | FALSE | FALSE |  TRUE |  TRUE | FALSE |\n",
       "| 6 | TRUE |  TRUE | FALSE | TRUE |  TRUE | FALSE | FALSE |  TRUE |  TRUE |  TRUE | FALSE |\n",
       "| 7 | TRUE |  TRUE | FALSE | TRUE |  TRUE | FALSE |  TRUE |  TRUE |  TRUE |  TRUE | FALSE |\n",
       "| 8 | TRUE |  TRUE | FALSE | TRUE |  TRUE |  TRUE |  TRUE |  TRUE |  TRUE |  TRUE | FALSE |\n",
       "| 9 | TRUE |  TRUE | FALSE | TRUE |  TRUE |  TRUE |  TRUE |  TRUE |  TRUE |  TRUE |  TRUE |\n",
       "| 10 | TRUE |  TRUE |  TRUE | TRUE |  TRUE |  TRUE |  TRUE |  TRUE |  TRUE |  TRUE |  TRUE |\n",
       "\n"
      ],
      "text/plain": [
       "   (Intercept) housing_median_age population median_income\n",
       "1  TRUE        FALSE              FALSE      TRUE         \n",
       "2  TRUE        FALSE              FALSE      TRUE         \n",
       "3  TRUE         TRUE              FALSE      TRUE         \n",
       "4  TRUE         TRUE              FALSE      TRUE         \n",
       "5  TRUE         TRUE              FALSE      TRUE         \n",
       "6  TRUE         TRUE              FALSE      TRUE         \n",
       "7  TRUE         TRUE              FALSE      TRUE         \n",
       "8  TRUE         TRUE              FALSE      TRUE         \n",
       "9  TRUE         TRUE              FALSE      TRUE         \n",
       "10 TRUE         TRUE               TRUE      TRUE         \n",
       "   ocean_proximityINLAND ocean_proximityISLAND ocean_proximityNEAR BAY\n",
       "1  FALSE                 FALSE                 FALSE                  \n",
       "2   TRUE                 FALSE                 FALSE                  \n",
       "3   TRUE                 FALSE                 FALSE                  \n",
       "4   TRUE                 FALSE                 FALSE                  \n",
       "5   TRUE                 FALSE                 FALSE                  \n",
       "6   TRUE                 FALSE                 FALSE                  \n",
       "7   TRUE                 FALSE                  TRUE                  \n",
       "8   TRUE                  TRUE                  TRUE                  \n",
       "9   TRUE                  TRUE                  TRUE                  \n",
       "10  TRUE                  TRUE                  TRUE                  \n",
       "   ocean_proximityNEAR OCEAN rooms_per_household bedrooms_per_household\n",
       "1  FALSE                     FALSE               FALSE                 \n",
       "2  FALSE                     FALSE               FALSE                 \n",
       "3  FALSE                     FALSE               FALSE                 \n",
       "4  FALSE                     FALSE                TRUE                 \n",
       "5  FALSE                      TRUE                TRUE                 \n",
       "6   TRUE                      TRUE                TRUE                 \n",
       "7   TRUE                      TRUE                TRUE                 \n",
       "8   TRUE                      TRUE                TRUE                 \n",
       "9   TRUE                      TRUE                TRUE                 \n",
       "10  TRUE                      TRUE                TRUE                 \n",
       "   population_per_household\n",
       "1  FALSE                   \n",
       "2  FALSE                   \n",
       "3  FALSE                   \n",
       "4  FALSE                   \n",
       "5  FALSE                   \n",
       "6  FALSE                   \n",
       "7  FALSE                   \n",
       "8  FALSE                   \n",
       "9   TRUE                   \n",
       "10  TRUE                   "
      ]
     },
     "metadata": {},
     "output_type": "display_data"
    }
   ],
   "source": [
    "housing_backward_sel <- regsubsets(\n",
    "    x = median_house_value ~ ., nvmax=10,\n",
    "    data = data_selection, \n",
    "    method=\"backward\",\n",
    ")\n",
    "housing_backward_summary <- summary(housing_backward_sel)\n",
    "housing_backward_summary$which"
   ]
  },
  {
   "cell_type": "code",
   "execution_count": 22,
   "metadata": {
    "vscode": {
     "languageId": "r"
    }
   },
   "outputs": [
    {
     "data": {
      "text/html": [
       "<table class=\"dataframe\">\n",
       "<caption>A tibble: 10 × 6</caption>\n",
       "<thead>\n",
       "\t<tr><th scope=col>n_input_variables</th><th scope=col>RSQ</th><th scope=col>RSS</th><th scope=col>ADJR2</th><th scope=col>Cp</th><th scope=col>BIC</th></tr>\n",
       "\t<tr><th scope=col>&lt;int&gt;</th><th scope=col>&lt;dbl&gt;</th><th scope=col>&lt;dbl&gt;</th><th scope=col>&lt;dbl&gt;</th><th scope=col>&lt;dbl&gt;</th><th scope=col>&lt;dbl&gt;</th></tr>\n",
       "</thead>\n",
       "<tbody>\n",
       "\t<tr><td> 1</td><td>0.4721471</td><td>7.055552e+13</td><td>0.4720955</td><td>3494.083715</td><td>-6508.924</td></tr>\n",
       "\t<tr><td> 2</td><td>0.5843054</td><td>5.556388e+13</td><td>0.5842240</td><td> 583.813754</td><td>-8939.954</td></tr>\n",
       "\t<tr><td> 3</td><td>0.5949812</td><td>5.413689e+13</td><td>0.5948622</td><td> 308.608080</td><td>-9196.516</td></tr>\n",
       "\t<tr><td> 4</td><td>0.5956269</td><td>5.405058e+13</td><td>0.5954685</td><td> 293.841366</td><td>-9203.585</td></tr>\n",
       "\t<tr><td> 5</td><td>0.6015860</td><td>5.325406e+13</td><td>0.6013909</td><td> 141.109564</td><td>-9346.023</td></tr>\n",
       "\t<tr><td> 6</td><td>0.6035919</td><td>5.298595e+13</td><td>0.6033589</td><td>  91.025501</td><td>-9388.355</td></tr>\n",
       "\t<tr><td> 7</td><td>0.6060368</td><td>5.265915e+13</td><td>0.6057666</td><td>  29.542012</td><td>-9442.327</td></tr>\n",
       "\t<tr><td> 8</td><td>0.6065615</td><td>5.258902e+13</td><td>0.6062531</td><td>  17.918042</td><td>-9446.710</td></tr>\n",
       "\t<tr><td> 9</td><td>0.6069534</td><td>5.253663e+13</td><td>0.6066068</td><td>   9.742126</td><td>-9447.659</td></tr>\n",
       "\t<tr><td>10</td><td>0.6069819</td><td>5.253281e+13</td><td>0.6065968</td><td>  11.000000</td><td>-9439.171</td></tr>\n",
       "</tbody>\n",
       "</table>\n"
      ],
      "text/latex": [
       "A tibble: 10 × 6\n",
       "\\begin{tabular}{llllll}\n",
       " n\\_input\\_variables & RSQ & RSS & ADJR2 & Cp & BIC\\\\\n",
       " <int> & <dbl> & <dbl> & <dbl> & <dbl> & <dbl>\\\\\n",
       "\\hline\n",
       "\t  1 & 0.4721471 & 7.055552e+13 & 0.4720955 & 3494.083715 & -6508.924\\\\\n",
       "\t  2 & 0.5843054 & 5.556388e+13 & 0.5842240 &  583.813754 & -8939.954\\\\\n",
       "\t  3 & 0.5949812 & 5.413689e+13 & 0.5948622 &  308.608080 & -9196.516\\\\\n",
       "\t  4 & 0.5956269 & 5.405058e+13 & 0.5954685 &  293.841366 & -9203.585\\\\\n",
       "\t  5 & 0.6015860 & 5.325406e+13 & 0.6013909 &  141.109564 & -9346.023\\\\\n",
       "\t  6 & 0.6035919 & 5.298595e+13 & 0.6033589 &   91.025501 & -9388.355\\\\\n",
       "\t  7 & 0.6060368 & 5.265915e+13 & 0.6057666 &   29.542012 & -9442.327\\\\\n",
       "\t  8 & 0.6065615 & 5.258902e+13 & 0.6062531 &   17.918042 & -9446.710\\\\\n",
       "\t  9 & 0.6069534 & 5.253663e+13 & 0.6066068 &    9.742126 & -9447.659\\\\\n",
       "\t 10 & 0.6069819 & 5.253281e+13 & 0.6065968 &   11.000000 & -9439.171\\\\\n",
       "\\end{tabular}\n"
      ],
      "text/markdown": [
       "\n",
       "A tibble: 10 × 6\n",
       "\n",
       "| n_input_variables &lt;int&gt; | RSQ &lt;dbl&gt; | RSS &lt;dbl&gt; | ADJR2 &lt;dbl&gt; | Cp &lt;dbl&gt; | BIC &lt;dbl&gt; |\n",
       "|---|---|---|---|---|---|\n",
       "|  1 | 0.4721471 | 7.055552e+13 | 0.4720955 | 3494.083715 | -6508.924 |\n",
       "|  2 | 0.5843054 | 5.556388e+13 | 0.5842240 |  583.813754 | -8939.954 |\n",
       "|  3 | 0.5949812 | 5.413689e+13 | 0.5948622 |  308.608080 | -9196.516 |\n",
       "|  4 | 0.5956269 | 5.405058e+13 | 0.5954685 |  293.841366 | -9203.585 |\n",
       "|  5 | 0.6015860 | 5.325406e+13 | 0.6013909 |  141.109564 | -9346.023 |\n",
       "|  6 | 0.6035919 | 5.298595e+13 | 0.6033589 |   91.025501 | -9388.355 |\n",
       "|  7 | 0.6060368 | 5.265915e+13 | 0.6057666 |   29.542012 | -9442.327 |\n",
       "|  8 | 0.6065615 | 5.258902e+13 | 0.6062531 |   17.918042 | -9446.710 |\n",
       "|  9 | 0.6069534 | 5.253663e+13 | 0.6066068 |    9.742126 | -9447.659 |\n",
       "| 10 | 0.6069819 | 5.253281e+13 | 0.6065968 |   11.000000 | -9439.171 |\n",
       "\n"
      ],
      "text/plain": [
       "   n_input_variables RSQ       RSS          ADJR2     Cp          BIC      \n",
       "1   1                0.4721471 7.055552e+13 0.4720955 3494.083715 -6508.924\n",
       "2   2                0.5843054 5.556388e+13 0.5842240  583.813754 -8939.954\n",
       "3   3                0.5949812 5.413689e+13 0.5948622  308.608080 -9196.516\n",
       "4   4                0.5956269 5.405058e+13 0.5954685  293.841366 -9203.585\n",
       "5   5                0.6015860 5.325406e+13 0.6013909  141.109564 -9346.023\n",
       "6   6                0.6035919 5.298595e+13 0.6033589   91.025501 -9388.355\n",
       "7   7                0.6060368 5.265915e+13 0.6057666   29.542012 -9442.327\n",
       "8   8                0.6065615 5.258902e+13 0.6062531   17.918042 -9446.710\n",
       "9   9                0.6069534 5.253663e+13 0.6066068    9.742126 -9447.659\n",
       "10 10                0.6069819 5.253281e+13 0.6065968   11.000000 -9439.171"
      ]
     },
     "metadata": {},
     "output_type": "display_data"
    }
   ],
   "source": [
    "housing_backward_summary_df <- tibble(\n",
    "    n_input_variables = 1:10,\n",
    "    RSQ = housing_backward_summary$rsq,\n",
    "    RSS = housing_backward_summary$rss,\n",
    "    ADJR2 = housing_backward_summary$adjr2,\n",
    "    Cp = housing_backward_summary$cp,\n",
    "    BIC = housing_backward_summary$bic)\n",
    "housing_backward_summary_df"
   ]
  },
  {
   "cell_type": "code",
   "execution_count": 23,
   "metadata": {
    "vscode": {
     "languageId": "r"
    }
   },
   "outputs": [
    {
     "data": {
      "image/png": "[encoded data removed]",
      "text/plain": [
       "Plot with title \"ADJ.R2 for Backward Selection\""
      ]
     },
     "metadata": {
      "image/png": {
       "height": 420,
       "width": 420
      }
     },
     "output_type": "display_data"
    }
   ],
   "source": [
    "plot(summary(housing_backward_sel)$adjr2,\n",
    "    main = \"ADJ.R2 for Backward Selection\", xlab = \"Number of Variables\", ylab=\"ADJ.R2\",\n",
    "    type = \"b\", pch = 15, col=\"blue\")"
   ]
  },
  {
   "cell_type": "markdown",
   "metadata": {},
   "source": [
    "From the results above, it is clear that the number of selective variables is also 9, with the same adjusted $R^2$, 0.60. The selected model is also the one with all the variables except `population`. With that being said, our final stepwise model will contain the following explanatory variables: `housing_median_age`,\t`median_income`, `ocean_proximity`, `rooms_per_household`, `bedrooms_per_household`, and `population_per_household`."
   ]
  },
  {
   "cell_type": "markdown",
   "metadata": {},
   "source": [
    "### Using LASSO to select a generative model\n",
    "\n",
    "Other than using forward/backward selection to create a model, we would like to see if LASSO generates a model with different parameters. Simutaneously, we would like to explore whether LASSO yields a better or worse performing model. \n",
    "\n",
    "We will choose our LASSO with a $\\lambda$ value that gives the smallest $MSE_{test}$."
   ]
  },
  {
   "cell_type": "markdown",
   "metadata": {},
   "source": [
    "In the following cell, we create the X and Y portion of the variable selection portion. Because we have a categorical variable, `ocean_promixity`, we need to create group dummy variables in order to fit a LASSO model. The code to do so is referenced [here](https://stackoverflow.com/questions/46865838/using-lasso-in-r-with-categorical-variables). "
   ]
  },
  {
   "cell_type": "code",
   "execution_count": 27,
   "metadata": {
    "vscode": {
     "languageId": "r"
    }
   },
   "outputs": [],
   "source": [
    "set.seed(1234)\n",
    "\n",
    "data_selection <- data_selection %>% mutate(ocean_proximity = as.factor(ocean_proximity))\n",
    "data_selection_Y <- data_selection %>% select(median_house_value) %>% as.matrix()\n",
    "\n",
    "vars_name <- data_selection %>% \n",
    "  select(-median_house_value) %>% \n",
    "  colnames() %>%\n",
    "  str_c(collapse = \"+\")\n",
    "\n",
    "model_string <- paste(\"median_house_value  ~\", vars_name)\n",
    "\n",
    "data_selection_X <- model.matrix(as.formula(model_string), data_selection)"
   ]
  },
  {
   "cell_type": "markdown",
   "metadata": {},
   "source": [
    "Then, we train the regression using LASSO and find the optimal value of the hyperparameter $\\lambda$."
   ]
  },
  {
   "cell_type": "code",
   "execution_count": 29,
   "metadata": {
    "vscode": {
     "languageId": "r"
    }
   },
   "outputs": [
    {
     "name": "stdout",
     "output_type": "stream",
     "text": [
      "The best lambda value is 665.1416"
     ]
    },
    {
     "data": {
      "image/png": "[encoded data removed]",
      "text/plain": [
       "plot without title"
      ]
     },
     "metadata": {
      "image/png": {
       "height": 420,
       "width": 420
      }
     },
     "output_type": "display_data"
    }
   ],
   "source": [
    "set.seed(1234)\n",
    "\n",
    "# referenced from worksheet 11\n",
    "housing_lambda_LASSO <- cv.glmnet(\n",
    "  x = data_selection_X, y = data_selection_Y,\n",
    "  alpha = 1,\n",
    "  lambda = exp(seq(5, 12, 0.1))\n",
    ")\n",
    "\n",
    "housing_lambda_min_MSE_LASSO <- round(housing_lambda_LASSO$lambda.min, 4)\n",
    "cat(\"The best lambda value is\", housing_lambda_min_MSE_LASSO)\n",
    "plot(housing_lambda_LASSO)"
   ]
  },
  {
   "cell_type": "markdown",
   "metadata": {},
   "source": [
    "Now, we train another LASSO model using the optimal lambda we found."
   ]
  },
  {
   "cell_type": "code",
   "execution_count": 30,
   "metadata": {
    "vscode": {
     "languageId": "r"
    }
   },
   "outputs": [],
   "source": [
    "housing_LASSO_min <- glmnet(\n",
    "  x = data_selection_X, y = data_selection_Y,\n",
    "  alpha = 1,\n",
    "  lambda = housing_lambda_min_MSE_LASSO\n",
    ")"
   ]
  },
  {
   "cell_type": "code",
   "execution_count": 31,
   "metadata": {
    "vscode": {
     "languageId": "r"
    }
   },
   "outputs": [
    {
     "data": {
      "text/plain": [
       "11 x 1 sparse Matrix of class \"dgCMatrix\"\n",
       "                                   s0\n",
       "(Intercept)                    .     \n",
       "housing_median_age           860.9698\n",
       "population                     .     \n",
       "median_income              40257.3054\n",
       "ocean_proximityINLAND     -67071.9226\n",
       "ocean_proximityISLAND     144854.2277\n",
       "ocean_proximityNEAR BAY    17165.6361\n",
       "ocean_proximityNEAR OCEAN  17454.7760\n",
       "rooms_per_household        -5745.1569\n",
       "bedrooms_per_household     27409.4147\n",
       "population_per_household    -320.3311"
      ]
     },
     "metadata": {},
     "output_type": "display_data"
    }
   ],
   "source": [
    "housing_LASSO_min$beta"
   ]
  },
  {
   "cell_type": "markdown",
   "metadata": {},
   "source": [
    "To our surprise, LASSO selected the exact same model as stepwise selection. The model also consists of 9 parameters, which are `housing_median_age`,\t`median_income`, `ocean_proximity`, `rooms_per_household`, `bedrooms_per_household`, and `population_per_household`. LASSO also did not select `population` as a parameter."
   ]
  },
  {
   "cell_type": "markdown",
   "metadata": {},
   "source": []
  }
 ],
 "metadata": {
  "kernelspec": {
   "display_name": "R",
   "language": "R",
   "name": "ir"
  },
  "language_info": {
   "codemirror_mode": "r",
   "file_extension": ".r",
   "mimetype": "text/x-r-source",
   "name": "R",
   "pygments_lexer": "r",
   "version": "4.1.2"
  },
  "vscode": {
   "interpreter": {
    "hash": "aee8b7b246df8f9039afb4144a1f6fd8d2ca17a180786b69acc140d282b71a49"
   }
  }
 },
 "nbformat": 4,
 "nbformat_minor": 4
}
